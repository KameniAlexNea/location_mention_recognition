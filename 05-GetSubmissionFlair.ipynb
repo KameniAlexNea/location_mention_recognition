{
 "cells": [
  {
   "cell_type": "code",
   "execution_count": 1,
   "metadata": {},
   "outputs": [],
   "source": [
    "import os\n",
    "\n",
    "os.environ[\"TOKENIZERS_PARALLELISM\"] = \"true\"\n",
    "os.environ[\"CUDA_DEVICE_ORDER\"] = \"PCI_BUS_ID\"\n",
    "os.environ[\"CUDA_VISIBLE_DEVICES\"] = \"1\"\n",
    "\n",
    "import pandas as pd\n",
    "from flair.models import SequenceTagger"
   ]
  },
  {
   "cell_type": "code",
   "execution_count": 2,
   "metadata": {},
   "outputs": [
    {
     "name": "stdout",
     "output_type": "stream",
     "text": [
      "2024-10-10 14:01:40,476 SequenceTagger predicts: Dictionary with 5 tags: O, B-LOC, I-LOC, <START>, <STOP>\n"
     ]
    }
   ],
   "source": [
    "task_id = \"27\"\n",
    "\n",
    "thr = 0.61\n",
    "\n",
    "PATH = \"flair_finetuning/debertav3/best-model.pt\" # \"urchade/gliner_small-v2.1\"\n",
    "\n",
    "model = SequenceTagger.load(PATH,).cuda() #  load_tokenizer=True"
   ]
  },
  {
   "cell_type": "code",
   "execution_count": 3,
   "metadata": {},
   "outputs": [],
   "source": [
    "import re\n",
    "\n",
    "def split_and_clean(sentence: str):\n",
    "\t# Split sentence into words while keeping punctuation as separate tokens\n",
    "\twords = re.findall(r\"[\\w]+|[^\\s\\w]\", sentence)\n",
    "\treturn words\n",
    "\n",
    "def normalize_word(word: str):\n",
    "\t# Remove leading # and @ symbols for comparison purposes\n",
    "\treturn word.lstrip(\"#@\")"
   ]
  },
  {
   "cell_type": "code",
   "execution_count": 4,
   "metadata": {},
   "outputs": [
    {
     "data": {
      "text/plain": [
       "['EVERYONE', 'wants', 'to', 'help', 'people', 'impacted', 'by', '@', 't']"
      ]
     },
     "execution_count": 4,
     "metadata": {},
     "output_type": "execute_result"
    }
   ],
   "source": [
    "split_and_clean(\"EVERYONE wants to help people impacted by @t\")"
   ]
  },
  {
   "cell_type": "code",
   "execution_count": 5,
   "metadata": {},
   "outputs": [
    {
     "data": {
      "text/html": [
       "<div>\n",
       "<style scoped>\n",
       "    .dataframe tbody tr th:only-of-type {\n",
       "        vertical-align: middle;\n",
       "    }\n",
       "\n",
       "    .dataframe tbody tr th {\n",
       "        vertical-align: top;\n",
       "    }\n",
       "\n",
       "    .dataframe thead th {\n",
       "        text-align: right;\n",
       "    }\n",
       "</style>\n",
       "<table border=\"1\" class=\"dataframe\">\n",
       "  <thead>\n",
       "    <tr style=\"text-align: right;\">\n",
       "      <th></th>\n",
       "      <th>tweet_id</th>\n",
       "      <th>text</th>\n",
       "    </tr>\n",
       "  </thead>\n",
       "  <tbody>\n",
       "    <tr>\n",
       "      <th>349</th>\n",
       "      <td>ID_1032595530776342528</td>\n",
       "      <td>Subcommittee directed by # SC suggests that , ...</td>\n",
       "    </tr>\n",
       "    <tr>\n",
       "      <th>1906</th>\n",
       "      <td>ID_783586053215051776</td>\n",
       "      <td>Maryland Group Sending Hurricane Relief Suppli...</td>\n",
       "    </tr>\n",
       "    <tr>\n",
       "      <th>2045</th>\n",
       "      <td>ID_797805580299763712</td>\n",
       "      <td>RT @ ForaDeControlee : # Tsunami # warning # i...</td>\n",
       "    </tr>\n",
       "    <tr>\n",
       "      <th>1198</th>\n",
       "      <td>ID_1167778641901686784</td>\n",
       "      <td>See bottom right hand corner picture . That is...</td>\n",
       "    </tr>\n",
       "    <tr>\n",
       "      <th>2604</th>\n",
       "      <td>ID_910681795225575424</td>\n",
       "      <td>if youre not from Mexico and want to help ! ! !</td>\n",
       "    </tr>\n",
       "    <tr>\n",
       "      <th>1317</th>\n",
       "      <td>ID_1168386123267268608</td>\n",
       "      <td>ὓ4 METAR with 360 km / h gusting forecast at G...</td>\n",
       "    </tr>\n",
       "    <tr>\n",
       "      <th>765</th>\n",
       "      <td>ID_1065651388401819648</td>\n",
       "      <td>My , what a juicy Ohnut . Margaret really outd...</td>\n",
       "    </tr>\n",
       "    <tr>\n",
       "      <th>1902</th>\n",
       "      <td>ID_783539813463027712</td>\n",
       "      <td>WowHurricane Matthews damage in Haiti really m...</td>\n",
       "    </tr>\n",
       "    <tr>\n",
       "      <th>882</th>\n",
       "      <td>ID_1108967792890413056</td>\n",
       "      <td>Deeply saddened by the devastation caused by #...</td>\n",
       "    </tr>\n",
       "    <tr>\n",
       "      <th>1525</th>\n",
       "      <td>ID_721832188313006080</td>\n",
       "      <td>Devastated victims of Ecuador earthquake beg f...</td>\n",
       "    </tr>\n",
       "  </tbody>\n",
       "</table>\n",
       "</div>"
      ],
      "text/plain": [
       "                    tweet_id  \\\n",
       "349   ID_1032595530776342528   \n",
       "1906   ID_783586053215051776   \n",
       "2045   ID_797805580299763712   \n",
       "1198  ID_1167778641901686784   \n",
       "2604   ID_910681795225575424   \n",
       "1317  ID_1168386123267268608   \n",
       "765   ID_1065651388401819648   \n",
       "1902   ID_783539813463027712   \n",
       "882   ID_1108967792890413056   \n",
       "1525   ID_721832188313006080   \n",
       "\n",
       "                                                   text  \n",
       "349   Subcommittee directed by # SC suggests that , ...  \n",
       "1906  Maryland Group Sending Hurricane Relief Suppli...  \n",
       "2045  RT @ ForaDeControlee : # Tsunami # warning # i...  \n",
       "1198  See bottom right hand corner picture . That is...  \n",
       "2604    if youre not from Mexico and want to help ! ! !  \n",
       "1317  ὓ4 METAR with 360 km / h gusting forecast at G...  \n",
       "765   My , what a juicy Ohnut . Margaret really outd...  \n",
       "1902  WowHurricane Matthews damage in Haiti really m...  \n",
       "882   Deeply saddened by the devastation caused by #...  \n",
       "1525  Devastated victims of Ecuador earthquake beg f...  "
      ]
     },
     "execution_count": 5,
     "metadata": {},
     "output_type": "execute_result"
    }
   ],
   "source": [
    "test_data = pd.read_csv(\"microsoft-learn-location-mention-recognition-challenge20240905-10153-193u9hv/Test.csv\")\n",
    "\n",
    "test_data = test_data.fillna(\"\")\n",
    "\n",
    "test_data[\"text\"] = test_data[\"text\"].apply(lambda x: \" \".join(split_and_clean(x)))\n",
    "\n",
    "test_data.sample(10)"
   ]
  },
  {
   "cell_type": "code",
   "execution_count": 6,
   "metadata": {},
   "outputs": [
    {
     "name": "stderr",
     "output_type": "stream",
     "text": [
      "Batch inference: 100%|██████████| 92/92 [00:44<00:00,  2.08it/s]\n"
     ]
    },
    {
     "data": {
      "text/plain": [
       "2942"
      ]
     },
     "execution_count": 6,
     "metadata": {},
     "output_type": "execute_result"
    }
   ],
   "source": [
    "from tqdm import tqdm\n",
    "\n",
    "from flair.data import Sentence\n",
    "\n",
    "texts = [Sentence(i) for i in test_data[\"text\"].tolist()]\n",
    "\n",
    "model.predict(texts, verbose=True)\n",
    "len(texts)"
   ]
  },
  {
   "cell_type": "code",
   "execution_count": 7,
   "metadata": {},
   "outputs": [],
   "source": [
    "preditions = []\n",
    "for text in texts:\n",
    "\tpred = []\n",
    "\n",
    "\tfor entity in text.get_spans(\"ner\"):\n",
    "\t\tif entity.tag == \"LOC\":\n",
    "\t\t\tpred.append(\n",
    "\t\t\t\t{\n",
    "\t\t\t\t\t\"entity\": entity.tag,\n",
    "\t\t\t\t\t\"word\": entity.text,\n",
    "\t\t\t\t\t\"start\": entity.start_position,\n",
    "\t\t\t\t\t\"end\": entity.end_position,\n",
    "\t\t\t\t\t\"probs\": entity.score\n",
    "\t\t\t\t}\n",
    "\t\t\t)\n",
    "\n",
    "\tpreditions.append(pred)"
   ]
  },
  {
   "cell_type": "code",
   "execution_count": 8,
   "metadata": {},
   "outputs": [],
   "source": [
    "def drop_duplicate(places):\n",
    "    return sorted(list(set(places)))\n",
    "\n",
    "raws = [\n",
    "\t\" \".join(drop_duplicate(i[\"word\"] for i in pred if i[\"probs\"] >= thr)) or \" \" for pred in preditions\n",
    "]"
   ]
  },
  {
   "cell_type": "code",
   "execution_count": 9,
   "metadata": {},
   "outputs": [
    {
     "data": {
      "text/html": [
       "<div>\n",
       "<style scoped>\n",
       "    .dataframe tbody tr th:only-of-type {\n",
       "        vertical-align: middle;\n",
       "    }\n",
       "\n",
       "    .dataframe tbody tr th {\n",
       "        vertical-align: top;\n",
       "    }\n",
       "\n",
       "    .dataframe thead th {\n",
       "        text-align: right;\n",
       "    }\n",
       "</style>\n",
       "<table border=\"1\" class=\"dataframe\">\n",
       "  <thead>\n",
       "    <tr style=\"text-align: right;\">\n",
       "      <th></th>\n",
       "      <th>tweet_id</th>\n",
       "      <th>location</th>\n",
       "    </tr>\n",
       "  </thead>\n",
       "  <tbody>\n",
       "    <tr>\n",
       "      <th>573</th>\n",
       "      <td>ID_1042058989045993472</td>\n",
       "      <td>NC New Bern</td>\n",
       "    </tr>\n",
       "    <tr>\n",
       "      <th>2795</th>\n",
       "      <td>ID_912963737363021824</td>\n",
       "      <td>Mexico Oaxaca</td>\n",
       "    </tr>\n",
       "    <tr>\n",
       "      <th>1983</th>\n",
       "      <td>ID_783882565136490496</td>\n",
       "      <td>Haiti</td>\n",
       "    </tr>\n",
       "    <tr>\n",
       "      <th>752</th>\n",
       "      <td>ID_1065398080785199104</td>\n",
       "      <td>California</td>\n",
       "    </tr>\n",
       "    <tr>\n",
       "      <th>2124</th>\n",
       "      <td>ID_798007786822979584</td>\n",
       "      <td>NZ NewZealand</td>\n",
       "    </tr>\n",
       "    <tr>\n",
       "      <th>1076</th>\n",
       "      <td>ID_1111813790973263872</td>\n",
       "      <td>Nebraska</td>\n",
       "    </tr>\n",
       "    <tr>\n",
       "      <th>429</th>\n",
       "      <td>ID_1039405953244954624</td>\n",
       "      <td>Miamis</td>\n",
       "    </tr>\n",
       "    <tr>\n",
       "      <th>1957</th>\n",
       "      <td>ID_783820755280605184</td>\n",
       "      <td>Haiti</td>\n",
       "    </tr>\n",
       "    <tr>\n",
       "      <th>592</th>\n",
       "      <td>ID_1061325222140231680</td>\n",
       "      <td>California</td>\n",
       "    </tr>\n",
       "    <tr>\n",
       "      <th>1632</th>\n",
       "      <td>ID_728534356034084864</td>\n",
       "      <td>Fort McMurray</td>\n",
       "    </tr>\n",
       "  </tbody>\n",
       "</table>\n",
       "</div>"
      ],
      "text/plain": [
       "                    tweet_id       location\n",
       "573   ID_1042058989045993472    NC New Bern\n",
       "2795   ID_912963737363021824  Mexico Oaxaca\n",
       "1983   ID_783882565136490496          Haiti\n",
       "752   ID_1065398080785199104     California\n",
       "2124   ID_798007786822979584  NZ NewZealand\n",
       "1076  ID_1111813790973263872       Nebraska\n",
       "429   ID_1039405953244954624         Miamis\n",
       "1957   ID_783820755280605184          Haiti\n",
       "592   ID_1061325222140231680     California\n",
       "1632   ID_728534356034084864  Fort McMurray"
      ]
     },
     "execution_count": 9,
     "metadata": {},
     "output_type": "execute_result"
    }
   ],
   "source": [
    "submission = test_data[[\"tweet_id\"]]\n",
    "submission[\"location\"] = raws\n",
    "\n",
    "submission.sample(10)"
   ]
  },
  {
   "cell_type": "code",
   "execution_count": 10,
   "metadata": {},
   "outputs": [],
   "source": [
    "submission.to_csv(f\"submissions/{task_id}-FlairSplit.csv\", index=False)"
   ]
  },
  {
   "cell_type": "code",
   "execution_count": 11,
   "metadata": {},
   "outputs": [
    {
     "data": {
      "text/plain": [
       "'submissions/27-Flair.csv'"
      ]
     },
     "execution_count": 11,
     "metadata": {},
     "output_type": "execute_result"
    }
   ],
   "source": [
    "f\"submissions/{task_id}-Flair.csv\""
   ]
  },
  {
   "cell_type": "raw",
   "metadata": {
    "vscode": {
     "languageId": "raw"
    }
   },
   "source": [
    "raws = [\n",
    "\t\" \".join(drop_duplicate(i[\"word\"] for i in pred if i[\"probs\"] > .41)) or \" \" for pred in preditions\n",
    "]\n",
    "submission = test_data[[\"tweet_id\"]]\n",
    "submission[\"location\"] = raws\n",
    "\n",
    "submission.to_csv(f\"submissions/13-Flair.csv\", index=False)"
   ]
  },
  {
   "cell_type": "code",
   "execution_count": null,
   "metadata": {},
   "outputs": [],
   "source": []
  }
 ],
 "metadata": {
  "kernelspec": {
   "display_name": ".venv",
   "language": "python",
   "name": "python3"
  },
  "language_info": {
   "codemirror_mode": {
    "name": "ipython",
    "version": 3
   },
   "file_extension": ".py",
   "mimetype": "text/x-python",
   "name": "python",
   "nbconvert_exporter": "python",
   "pygments_lexer": "ipython3",
   "version": "3.9.18"
  }
 },
 "nbformat": 4,
 "nbformat_minor": 2
}
