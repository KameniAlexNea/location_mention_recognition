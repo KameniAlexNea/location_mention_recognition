{
 "cells": [
  {
   "cell_type": "code",
   "execution_count": 1,
   "metadata": {},
   "outputs": [],
   "source": [
    "import os\n",
    "\n",
    "os.environ[\"TOKENIZERS_PARALLELISM\"] = \"true\"\n",
    "os.environ[\"CUDA_DEVICE_ORDER\"] = \"PCI_BUS_ID\"\n",
    "os.environ[\"CUDA_VISIBLE_DEVICES\"] = \"1\"\n",
    "\n",
    "import pandas as pd\n",
    "from gliner import GLiNER"
   ]
  },
  {
   "cell_type": "code",
   "execution_count": 2,
   "metadata": {},
   "outputs": [
    {
     "name": "stderr",
     "output_type": "stream",
     "text": [
      "config.json not found in /data/home/eak/learning/zindi_challenge/micro_rec/models/checkpoint-1840\n"
     ]
    }
   ],
   "source": [
    "task_id = \"31\"\n",
    "\n",
    "thr = 0.65\n",
    "\n",
    "PATH = \"models/checkpoint-1840\" # \"urchade/gliner_small-v2.1\"\n",
    "\n",
    "model = GLiNER.from_pretrained(PATH,).cuda() #  load_tokenizer=True"
   ]
  },
  {
   "cell_type": "code",
   "execution_count": 3,
   "metadata": {},
   "outputs": [],
   "source": [
    "import re\n",
    "\n",
    "def split_and_clean(sentence: str):\n",
    "\t# Split sentence into words while keeping punctuation as separate tokens\n",
    "\twords = re.findall(r\"[\\w]+|[^\\s\\w]\", sentence)\n",
    "\treturn words\n",
    "\n",
    "def normalize_word(word: str):\n",
    "\t# Remove leading # and @ symbols for comparison purposes\n",
    "\treturn word.lstrip(\"#@\")"
   ]
  },
  {
   "cell_type": "code",
   "execution_count": 4,
   "metadata": {},
   "outputs": [
    {
     "data": {
      "text/html": [
       "<div>\n",
       "<style scoped>\n",
       "    .dataframe tbody tr th:only-of-type {\n",
       "        vertical-align: middle;\n",
       "    }\n",
       "\n",
       "    .dataframe tbody tr th {\n",
       "        vertical-align: top;\n",
       "    }\n",
       "\n",
       "    .dataframe thead th {\n",
       "        text-align: right;\n",
       "    }\n",
       "</style>\n",
       "<table border=\"1\" class=\"dataframe\">\n",
       "  <thead>\n",
       "    <tr style=\"text-align: right;\">\n",
       "      <th></th>\n",
       "      <th>tweet_id</th>\n",
       "      <th>text</th>\n",
       "    </tr>\n",
       "  </thead>\n",
       "  <tbody>\n",
       "    <tr>\n",
       "      <th>1225</th>\n",
       "      <td>ID_1167962033284878336</td>\n",
       "      <td>RT @baltimoresun: Maryland rescue crews head t...</td>\n",
       "    </tr>\n",
       "    <tr>\n",
       "      <th>1658</th>\n",
       "      <td>ID_728738932909875200</td>\n",
       "      <td>Northwestern Ontario Wildfire Update – May 6 2...</td>\n",
       "    </tr>\n",
       "    <tr>\n",
       "      <th>1122</th>\n",
       "      <td>ID_1112831621017763840</td>\n",
       "      <td>Today @SecWilkie held a call with Nebraska @Go...</td>\n",
       "    </tr>\n",
       "    <tr>\n",
       "      <th>1346</th>\n",
       "      <td>ID_1176479940600053760</td>\n",
       "      <td>5.8 Magnitude earthquake hits #Pakistan-admini...</td>\n",
       "    </tr>\n",
       "    <tr>\n",
       "      <th>1516</th>\n",
       "      <td>ID_721802440253812736</td>\n",
       "      <td>Ecuador needs help right now. #EcuadorEarthqua...</td>\n",
       "    </tr>\n",
       "    <tr>\n",
       "      <th>794</th>\n",
       "      <td>ID_1106941332558217216</td>\n",
       "      <td>An estimated 600,000 people in #Mozambique hav...</td>\n",
       "    </tr>\n",
       "    <tr>\n",
       "      <th>1314</th>\n",
       "      <td>ID_1168376879708901376</td>\n",
       "      <td>For those of you in NORTH CAROLINA and surroun...</td>\n",
       "    </tr>\n",
       "    <tr>\n",
       "      <th>361</th>\n",
       "      <td>ID_1032923987913986048</td>\n",
       "      <td>#KeralaFloods have caused destruction but have...</td>\n",
       "    </tr>\n",
       "    <tr>\n",
       "      <th>2316</th>\n",
       "      <td>ID_902891297249353728</td>\n",
       "      <td>Two killed Tuesday night when tree falls on pi...</td>\n",
       "    </tr>\n",
       "    <tr>\n",
       "      <th>2888</th>\n",
       "      <td>ID_914154121061691392</td>\n",
       "      <td>὎2 #PuertoRico Relief efforts in Puerto Rico a...</td>\n",
       "    </tr>\n",
       "  </tbody>\n",
       "</table>\n",
       "</div>"
      ],
      "text/plain": [
       "                    tweet_id  \\\n",
       "1225  ID_1167962033284878336   \n",
       "1658   ID_728738932909875200   \n",
       "1122  ID_1112831621017763840   \n",
       "1346  ID_1176479940600053760   \n",
       "1516   ID_721802440253812736   \n",
       "794   ID_1106941332558217216   \n",
       "1314  ID_1168376879708901376   \n",
       "361   ID_1032923987913986048   \n",
       "2316   ID_902891297249353728   \n",
       "2888   ID_914154121061691392   \n",
       "\n",
       "                                                   text  \n",
       "1225  RT @baltimoresun: Maryland rescue crews head t...  \n",
       "1658  Northwestern Ontario Wildfire Update – May 6 2...  \n",
       "1122  Today @SecWilkie held a call with Nebraska @Go...  \n",
       "1346  5.8 Magnitude earthquake hits #Pakistan-admini...  \n",
       "1516  Ecuador needs help right now. #EcuadorEarthqua...  \n",
       "794   An estimated 600,000 people in #Mozambique hav...  \n",
       "1314  For those of you in NORTH CAROLINA and surroun...  \n",
       "361   #KeralaFloods have caused destruction but have...  \n",
       "2316  Two killed Tuesday night when tree falls on pi...  \n",
       "2888  ὎2 #PuertoRico Relief efforts in Puerto Rico a...  "
      ]
     },
     "execution_count": 4,
     "metadata": {},
     "output_type": "execute_result"
    }
   ],
   "source": [
    "test_data = pd.read_csv(\"microsoft-learn-location-mention-recognition-challenge20240905-10153-193u9hv/Test.csv\")\n",
    "\n",
    "test_data = test_data.fillna(\"\")\n",
    "\n",
    "# test_data[\"text\"] = test_data[\"text\"].apply(lambda x: \" \".join(split_and_clean(x)))\n",
    "test_data.sample(10)"
   ]
  },
  {
   "cell_type": "code",
   "execution_count": 5,
   "metadata": {},
   "outputs": [
    {
     "name": "stderr",
     "output_type": "stream",
     "text": [
      "  0%|          | 0/12 [00:00<?, ?it/s]"
     ]
    },
    {
     "name": "stderr",
     "output_type": "stream",
     "text": [
      "Asking to truncate to max_length but no maximum length is provided and the model has no predefined maximum length. Default to no truncation.\n",
      "100%|██████████| 12/12 [00:14<00:00,  1.23s/it]\n"
     ]
    },
    {
     "data": {
      "text/plain": [
       "12"
      ]
     },
     "execution_count": 5,
     "metadata": {},
     "output_type": "execute_result"
    }
   ],
   "source": [
    "from tqdm import tqdm\n",
    "\n",
    "texts = test_data[\"text\"].tolist()\n",
    "bsize = 256\n",
    "\n",
    "predictions = [\n",
    "\tmodel.batch_predict_entities(texts[i: i+bsize], [\"disaster related location\"], threshold=.05) for i in tqdm(range(0, len(texts), bsize))\n",
    "]\n",
    "\n",
    "len(predictions)"
   ]
  },
  {
   "cell_type": "code",
   "execution_count": 11,
   "metadata": {},
   "outputs": [],
   "source": [
    "all_predictions = sum(predictions, start=[])\n",
    "\n",
    "def drop_duplicate(places):\n",
    "    return sorted(list(set(places)))\n",
    "# 0.65\n",
    "raws = [\n",
    "\t\" \".join(drop_duplicate(i[\"text\"] for i in pred if i[\"score\"] > .7)) or \" \" for pred in all_predictions\n",
    "]"
   ]
  },
  {
   "cell_type": "code",
   "execution_count": 12,
   "metadata": {},
   "outputs": [
    {
     "data": {
      "text/html": [
       "<div>\n",
       "<style scoped>\n",
       "    .dataframe tbody tr th:only-of-type {\n",
       "        vertical-align: middle;\n",
       "    }\n",
       "\n",
       "    .dataframe tbody tr th {\n",
       "        vertical-align: top;\n",
       "    }\n",
       "\n",
       "    .dataframe thead th {\n",
       "        text-align: right;\n",
       "    }\n",
       "</style>\n",
       "<table border=\"1\" class=\"dataframe\">\n",
       "  <thead>\n",
       "    <tr style=\"text-align: right;\">\n",
       "      <th></th>\n",
       "      <th>tweet_id</th>\n",
       "      <th>location</th>\n",
       "    </tr>\n",
       "  </thead>\n",
       "  <tbody>\n",
       "    <tr>\n",
       "      <th>458</th>\n",
       "      <td>ID_1039546242542522368</td>\n",
       "      <td>Florida</td>\n",
       "    </tr>\n",
       "    <tr>\n",
       "      <th>1628</th>\n",
       "      <td>ID_722204384139087872</td>\n",
       "      <td>Kumamoto</td>\n",
       "    </tr>\n",
       "    <tr>\n",
       "      <th>423</th>\n",
       "      <td>ID_1037567855112474624</td>\n",
       "      <td>India Kerala Uttarakhand</td>\n",
       "    </tr>\n",
       "    <tr>\n",
       "      <th>2773</th>\n",
       "      <td>ID_912363705521905664</td>\n",
       "      <td>Mexicos</td>\n",
       "    </tr>\n",
       "    <tr>\n",
       "      <th>1554</th>\n",
       "      <td>ID_721947100741836800</td>\n",
       "      <td>Ecuador India</td>\n",
       "    </tr>\n",
       "    <tr>\n",
       "      <th>1235</th>\n",
       "      <td>ID_1168178071679225856</td>\n",
       "      <td>Cape Canaveral FL</td>\n",
       "    </tr>\n",
       "    <tr>\n",
       "      <th>1589</th>\n",
       "      <td>ID_722089934144872448</td>\n",
       "      <td>Ecuador</td>\n",
       "    </tr>\n",
       "    <tr>\n",
       "      <th>1005</th>\n",
       "      <td>ID_1111005776255033344</td>\n",
       "      <td>Nebraska Ohio United States</td>\n",
       "    </tr>\n",
       "    <tr>\n",
       "      <th>2645</th>\n",
       "      <td>ID_910738575938822144</td>\n",
       "      <td>Mexicos</td>\n",
       "    </tr>\n",
       "    <tr>\n",
       "      <th>2577</th>\n",
       "      <td>ID_910624637033357312</td>\n",
       "      <td>Mexico</td>\n",
       "    </tr>\n",
       "  </tbody>\n",
       "</table>\n",
       "</div>"
      ],
      "text/plain": [
       "                    tweet_id                     location\n",
       "458   ID_1039546242542522368                      Florida\n",
       "1628   ID_722204384139087872                     Kumamoto\n",
       "423   ID_1037567855112474624     India Kerala Uttarakhand\n",
       "2773   ID_912363705521905664                      Mexicos\n",
       "1554   ID_721947100741836800                Ecuador India\n",
       "1235  ID_1168178071679225856            Cape Canaveral FL\n",
       "1589   ID_722089934144872448                      Ecuador\n",
       "1005  ID_1111005776255033344  Nebraska Ohio United States\n",
       "2645   ID_910738575938822144                      Mexicos\n",
       "2577   ID_910624637033357312                       Mexico"
      ]
     },
     "execution_count": 12,
     "metadata": {},
     "output_type": "execute_result"
    }
   ],
   "source": [
    "submission = test_data[[\"tweet_id\"]]\n",
    "submission[\"location\"] = raws\n",
    "\n",
    "submission.sample(10)"
   ]
  },
  {
   "cell_type": "code",
   "execution_count": 13,
   "metadata": {},
   "outputs": [
    {
     "data": {
      "text/html": [
       "<div>\n",
       "<style scoped>\n",
       "    .dataframe tbody tr th:only-of-type {\n",
       "        vertical-align: middle;\n",
       "    }\n",
       "\n",
       "    .dataframe tbody tr th {\n",
       "        vertical-align: top;\n",
       "    }\n",
       "\n",
       "    .dataframe thead th {\n",
       "        text-align: right;\n",
       "    }\n",
       "</style>\n",
       "<table border=\"1\" class=\"dataframe\">\n",
       "  <thead>\n",
       "    <tr style=\"text-align: right;\">\n",
       "      <th></th>\n",
       "      <th>tweet_id</th>\n",
       "      <th>location</th>\n",
       "    </tr>\n",
       "  </thead>\n",
       "  <tbody>\n",
       "    <tr>\n",
       "      <th>76</th>\n",
       "      <td>ID_1021722786316935168</td>\n",
       "      <td></td>\n",
       "    </tr>\n",
       "    <tr>\n",
       "      <th>106</th>\n",
       "      <td>ID_1021799419681878016</td>\n",
       "      <td></td>\n",
       "    </tr>\n",
       "    <tr>\n",
       "      <th>151</th>\n",
       "      <td>ID_1022166211927449600</td>\n",
       "      <td></td>\n",
       "    </tr>\n",
       "    <tr>\n",
       "      <th>170</th>\n",
       "      <td>ID_1022461309324079104</td>\n",
       "      <td></td>\n",
       "    </tr>\n",
       "    <tr>\n",
       "      <th>260</th>\n",
       "      <td>ID_1030761481527275520</td>\n",
       "      <td></td>\n",
       "    </tr>\n",
       "    <tr>\n",
       "      <th>...</th>\n",
       "      <td>...</td>\n",
       "      <td>...</td>\n",
       "    </tr>\n",
       "    <tr>\n",
       "      <th>2824</th>\n",
       "      <td>ID_913186608794492928</td>\n",
       "      <td></td>\n",
       "    </tr>\n",
       "    <tr>\n",
       "      <th>2853</th>\n",
       "      <td>ID_913458667625881600</td>\n",
       "      <td></td>\n",
       "    </tr>\n",
       "    <tr>\n",
       "      <th>2891</th>\n",
       "      <td>ID_914190210728173568</td>\n",
       "      <td></td>\n",
       "    </tr>\n",
       "    <tr>\n",
       "      <th>2895</th>\n",
       "      <td>ID_914205749013893120</td>\n",
       "      <td></td>\n",
       "    </tr>\n",
       "    <tr>\n",
       "      <th>2934</th>\n",
       "      <td>ID_914988875390619648</td>\n",
       "      <td></td>\n",
       "    </tr>\n",
       "  </tbody>\n",
       "</table>\n",
       "<p>181 rows × 2 columns</p>\n",
       "</div>"
      ],
      "text/plain": [
       "                    tweet_id location\n",
       "76    ID_1021722786316935168         \n",
       "106   ID_1021799419681878016         \n",
       "151   ID_1022166211927449600         \n",
       "170   ID_1022461309324079104         \n",
       "260   ID_1030761481527275520         \n",
       "...                      ...      ...\n",
       "2824   ID_913186608794492928         \n",
       "2853   ID_913458667625881600         \n",
       "2891   ID_914190210728173568         \n",
       "2895   ID_914205749013893120         \n",
       "2934   ID_914988875390619648         \n",
       "\n",
       "[181 rows x 2 columns]"
      ]
     },
     "execution_count": 13,
     "metadata": {},
     "output_type": "execute_result"
    }
   ],
   "source": [
    "submission[submission[\"location\"] == \" \"]"
   ]
  },
  {
   "cell_type": "code",
   "execution_count": 14,
   "metadata": {},
   "outputs": [],
   "source": [
    "submission.to_csv(f\"submissions/{task_id}-GlinerLargeSplit.csv\", index=False)"
   ]
  },
  {
   "cell_type": "code",
   "execution_count": 15,
   "metadata": {},
   "outputs": [
    {
     "data": {
      "text/plain": [
       "'submissions/31-GlinerLargeSplit.csv'"
      ]
     },
     "execution_count": 15,
     "metadata": {},
     "output_type": "execute_result"
    },
    {
     "ename": "",
     "evalue": "",
     "output_type": "error",
     "traceback": [
      "\u001b[1;31mThe Kernel crashed while executing code in the current cell or a previous cell. \n",
      "\u001b[1;31mPlease review the code in the cell(s) to identify a possible cause of the failure. \n",
      "\u001b[1;31mClick <a href='https://aka.ms/vscodeJupyterKernelCrash'>here</a> for more info. \n",
      "\u001b[1;31mView Jupyter <a href='command:jupyter.viewOutput'>log</a> for further details."
     ]
    }
   ],
   "source": [
    "f\"submissions/{task_id}-GlinerLargeSplit.csv\""
   ]
  },
  {
   "cell_type": "raw",
   "metadata": {
    "vscode": {
     "languageId": "raw"
    }
   },
   "source": [
    "raws = [\n",
    "\t\" \".join(drop_duplicate(i[\"word\"] for i in pred if i[\"probs\"] > .41)) or \" \" for pred in preditions\n",
    "]\n",
    "submission = test_data[[\"tweet_id\"]]\n",
    "submission[\"location\"] = raws\n",
    "\n",
    "submission.to_csv(f\"submissions/13-Flair.csv\", index=False)"
   ]
  },
  {
   "cell_type": "code",
   "execution_count": null,
   "metadata": {},
   "outputs": [],
   "source": []
  }
 ],
 "metadata": {
  "kernelspec": {
   "display_name": ".venv",
   "language": "python",
   "name": "python3"
  },
  "language_info": {
   "codemirror_mode": {
    "name": "ipython",
    "version": 3
   },
   "file_extension": ".py",
   "mimetype": "text/x-python",
   "name": "python",
   "nbconvert_exporter": "python",
   "pygments_lexer": "ipython3",
   "version": "3.9.18"
  }
 },
 "nbformat": 4,
 "nbformat_minor": 2
}
