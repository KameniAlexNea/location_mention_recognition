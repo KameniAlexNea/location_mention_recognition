{
 "cells": [
  {
   "cell_type": "code",
   "execution_count": 1,
   "metadata": {},
   "outputs": [],
   "source": [
    "import os\n",
    "\n",
    "os.environ[\"TOKENIZERS_PARALLELISM\"] = \"true\"\n",
    "os.environ[\"CUDA_DEVICE_ORDER\"] = \"PCI_BUS_ID\"\n",
    "os.environ[\"CUDA_VISIBLE_DEVICES\"] = \"1\"\n",
    "\n",
    "os.environ[\"WANDB_PROJECT\"] = \"mscft_ner\"\n",
    "# os.environ[\"WANDB_LOG_MODEL\"] = \"true\"\n",
    "# os.environ[\"WANDB_WATCH\"] = \"none\"\n",
    "\n",
    "import json\n",
    "import random\n",
    "from glob import glob\n",
    "\n",
    "import pandas as pd\n",
    "import torch\n",
    "from gliner import GLiNER"
   ]
  },
  {
   "cell_type": "code",
   "execution_count": 2,
   "metadata": {},
   "outputs": [
    {
     "data": {
      "text/plain": [
       "['models/checkpoint-1150', 'models/checkpoint-1840', 'models/checkpoint-920']"
      ]
     },
     "execution_count": 2,
     "metadata": {},
     "output_type": "execute_result"
    }
   ],
   "source": [
    "models_path = glob(\"models/checkpoint-*\")\n",
    "\n",
    "loss_max = 21.5\n",
    "paths = []\n",
    "for path in models_path:\n",
    "    perf_file = json.load(open(os.path.join(path, \"trainer_state.json\"), \"r\"))[\"log_history\"]\n",
    "    for i in perf_file[::-1]:\n",
    "        if \"eval_loss\" in i:\n",
    "            break\n",
    "    if i[\"eval_loss\"] <= loss_max:\n",
    "        paths.append(path)\n",
    "        \n",
    "paths"
   ]
  },
  {
   "cell_type": "code",
   "execution_count": 3,
   "metadata": {},
   "outputs": [
    {
     "name": "stderr",
     "output_type": "stream",
     "text": [
      "config.json not found in /data/home/eak/learning/zindi_challenge/micro_rec/models/checkpoint-1150\n",
      "config.json not found in /data/home/eak/learning/zindi_challenge/micro_rec/models/checkpoint-1840\n",
      "config.json not found in /data/home/eak/learning/zindi_challenge/micro_rec/models/checkpoint-920\n"
     ]
    }
   ],
   "source": [
    "# paths = [\n",
    "#     \"models/checkpoint-920\",\n",
    "#     \"models/checkpoint-1150\",\n",
    "#     \"models/checkpoint-1380\",\n",
    "#     \"models/checkpoint-1840\",\n",
    "#     \"models/checkpoint-2070\",\n",
    "#     \"models/checkpoint-2315\",\n",
    "#     \"models/checkpoint-2300\"\n",
    "# ]\n",
    "\n",
    "models = [\n",
    "    GLiNER.from_pretrained(path,).cuda() for path in paths\n",
    "]"
   ]
  },
  {
   "cell_type": "code",
   "execution_count": 4,
   "metadata": {},
   "outputs": [
    {
     "name": "stdout",
     "output_type": "stream",
     "text": [
      "1645\n"
     ]
    },
    {
     "data": {
      "text/html": [
       "<div>\n",
       "<style scoped>\n",
       "    .dataframe tbody tr th:only-of-type {\n",
       "        vertical-align: middle;\n",
       "    }\n",
       "\n",
       "    .dataframe tbody tr th {\n",
       "        vertical-align: top;\n",
       "    }\n",
       "\n",
       "    .dataframe thead th {\n",
       "        text-align: right;\n",
       "    }\n",
       "</style>\n",
       "<table border=\"1\" class=\"dataframe\">\n",
       "  <thead>\n",
       "    <tr style=\"text-align: right;\">\n",
       "      <th></th>\n",
       "      <th>text</th>\n",
       "      <th>location</th>\n",
       "    </tr>\n",
       "  </thead>\n",
       "  <tbody>\n",
       "    <tr>\n",
       "      <th>748</th>\n",
       "      <td>Hurricane Matthew kills 10 across Caribbean ; ...</td>\n",
       "      <td></td>\n",
       "    </tr>\n",
       "    <tr>\n",
       "      <th>937</th>\n",
       "      <td>HurricaneHarvey spun deeper into Texas unloadi...</td>\n",
       "      <td>Texas</td>\n",
       "    </tr>\n",
       "    <tr>\n",
       "      <th>1290</th>\n",
       "      <td>Ecuador earthquake : 10 , 000 troops deployed ...</td>\n",
       "      <td>Ecuador</td>\n",
       "    </tr>\n",
       "    <tr>\n",
       "      <th>887</th>\n",
       "      <td>The track of Hurricane # Florence may have shi...</td>\n",
       "      <td>VA Virginia</td>\n",
       "    </tr>\n",
       "    <tr>\n",
       "      <th>907</th>\n",
       "      <td>Foreign Aid Received by India in the Last Ten ...</td>\n",
       "      <td>India</td>\n",
       "    </tr>\n",
       "  </tbody>\n",
       "</table>\n",
       "</div>"
      ],
      "text/plain": [
       "                                                   text     location\n",
       "748   Hurricane Matthew kills 10 across Caribbean ; ...             \n",
       "937   HurricaneHarvey spun deeper into Texas unloadi...        Texas\n",
       "1290  Ecuador earthquake : 10 , 000 troops deployed ...      Ecuador\n",
       "887   The track of Hurricane # Florence may have shi...  VA Virginia\n",
       "907   Foreign Aid Received by India in the Last Ten ...        India"
      ]
     },
     "execution_count": 4,
     "metadata": {},
     "output_type": "execute_result"
    }
   ],
   "source": [
    "raw_test = json.load(open(\"data/accepted_data/TestCleaned.json\"))\n",
    "location_name = \"disaster related location\"\n",
    "for i in raw_test:\n",
    "\t# i[\"label\"] = labels\n",
    "\tfor row in i[\"ner\"]:\n",
    "\t\trow[-1] = location_name\n",
    "\n",
    "texts = [\n",
    "    \" \".join(i[\"tokenized_text\"]) for i in raw_test\n",
    "]\n",
    "\n",
    "def get_expected(raw):\n",
    "    entities = [\n",
    "        \" \".join(raw[\"tokenized_text\"][i[0]: i[1] + 1]) for i in raw[\"ner\"]\n",
    "    ]\n",
    "    return \" \".join(sorted(entities))\n",
    "ners = [\n",
    "    get_expected(i) for i in raw_test\n",
    "]\n",
    "test_data = pd.DataFrame(zip(texts, ners), columns=[\"text\", \"location\"])\n",
    "print(len(test_data))\n",
    "\n",
    "test_data.sample(5)"
   ]
  },
  {
   "cell_type": "code",
   "execution_count": 5,
   "metadata": {},
   "outputs": [
    {
     "name": "stderr",
     "output_type": "stream",
     "text": [
      "  0%|          | 0/7 [00:00<?, ?it/s]Asking to truncate to max_length but no maximum length is provided and the model has no predefined maximum length. Default to no truncation.\n",
      "Asking to truncate to max_length but no maximum length is provided and the model has no predefined maximum length. Default to no truncation.\n",
      "Asking to truncate to max_length but no maximum length is provided and the model has no predefined maximum length. Default to no truncation.\n",
      "100%|██████████| 7/7 [00:26<00:00,  3.83s/it]\n"
     ]
    },
    {
     "data": {
      "text/plain": [
       "7"
      ]
     },
     "execution_count": 5,
     "metadata": {},
     "output_type": "execute_result"
    }
   ],
   "source": [
    "from tqdm import tqdm\n",
    "\n",
    "label_name = [\"disaster related location\"]\n",
    "\n",
    "\n",
    "def make_predictions(batch: list[str]):\n",
    "    preds = [\n",
    "        sum(rows, start=[])\n",
    "        for rows in zip(\n",
    "            *[\n",
    "                model.batch_predict_entities(batch, label_name, threshold=0.05)\n",
    "                for model in models\n",
    "            ]\n",
    "        )\n",
    "    ]\n",
    "    return preds\n",
    "\n",
    "\n",
    "texts = test_data[\"text\"].tolist()\n",
    "bsize = 256\n",
    "\n",
    "predictions = [\n",
    "    make_predictions(texts[i : i + bsize])\n",
    "    for i in tqdm(range(0, len(texts), bsize))\n",
    "]\n",
    "\n",
    "len(predictions)"
   ]
  },
  {
   "cell_type": "code",
   "execution_count": 6,
   "metadata": {},
   "outputs": [
    {
     "data": {
      "text/plain": [
       "[{'start': 9,\n",
       "  'end': 27,\n",
       "  'text': 'Wright - Patterson',\n",
       "  'label': 'disaster related location',\n",
       "  'score': 0.1267768144607544,\n",
       "  'raw_id': 0},\n",
       " {'start': 60,\n",
       "  'end': 65,\n",
       "  'text': 'Texas',\n",
       "  'label': 'disaster related location',\n",
       "  'score': 0.9987847208976746,\n",
       "  'raw_id': 0},\n",
       " {'start': 9,\n",
       "  'end': 27,\n",
       "  'text': 'Wright - Patterson',\n",
       "  'label': 'disaster related location',\n",
       "  'score': 0.13000044226646423,\n",
       "  'raw_id': 0},\n",
       " {'start': 60,\n",
       "  'end': 65,\n",
       "  'text': 'Texas',\n",
       "  'label': 'disaster related location',\n",
       "  'score': 0.9987105131149292,\n",
       "  'raw_id': 0},\n",
       " {'start': 9,\n",
       "  'end': 27,\n",
       "  'text': 'Wright - Patterson',\n",
       "  'label': 'disaster related location',\n",
       "  'score': 0.2057553082704544,\n",
       "  'raw_id': 0}]"
      ]
     },
     "execution_count": 6,
     "metadata": {},
     "output_type": "execute_result"
    }
   ],
   "source": [
    "thr = .05\n",
    "\n",
    "all_predictions = sum(predictions, start=[])\n",
    "\n",
    "all_predictions = [\n",
    "\t[i for i in raws if i[\"score\"] >= thr] for raws in all_predictions\n",
    "]\n",
    "\n",
    "for i, raw in enumerate(all_predictions):\n",
    "\tfor j in raw:\n",
    "\t\tj[\"raw_id\"] = i\n",
    "\n",
    "all_predictions = sum(all_predictions, start=[])\n",
    "all_predictions[:5]"
   ]
  },
  {
   "cell_type": "code",
   "execution_count": 7,
   "metadata": {},
   "outputs": [
    {
     "data": {
      "text/html": [
       "<div>\n",
       "<style scoped>\n",
       "    .dataframe tbody tr th:only-of-type {\n",
       "        vertical-align: middle;\n",
       "    }\n",
       "\n",
       "    .dataframe tbody tr th {\n",
       "        vertical-align: top;\n",
       "    }\n",
       "\n",
       "    .dataframe thead th {\n",
       "        text-align: right;\n",
       "    }\n",
       "</style>\n",
       "<table border=\"1\" class=\"dataframe\">\n",
       "  <thead>\n",
       "    <tr style=\"text-align: right;\">\n",
       "      <th></th>\n",
       "      <th>start</th>\n",
       "      <th>end</th>\n",
       "      <th>text</th>\n",
       "      <th>label</th>\n",
       "      <th>score</th>\n",
       "      <th>raw_id</th>\n",
       "    </tr>\n",
       "  </thead>\n",
       "  <tbody>\n",
       "    <tr>\n",
       "      <th>1010</th>\n",
       "      <td>28</td>\n",
       "      <td>36</td>\n",
       "      <td>Florence</td>\n",
       "      <td>disaster related location</td>\n",
       "      <td>0.537928</td>\n",
       "      <td>238</td>\n",
       "    </tr>\n",
       "    <tr>\n",
       "      <th>2531</th>\n",
       "      <td>54</td>\n",
       "      <td>62</td>\n",
       "      <td>Florence</td>\n",
       "      <td>disaster related location</td>\n",
       "      <td>0.536101</td>\n",
       "      <td>630</td>\n",
       "    </tr>\n",
       "    <tr>\n",
       "      <th>413</th>\n",
       "      <td>37</td>\n",
       "      <td>45</td>\n",
       "      <td>Carolina</td>\n",
       "      <td>disaster related location</td>\n",
       "      <td>0.856449</td>\n",
       "      <td>100</td>\n",
       "    </tr>\n",
       "    <tr>\n",
       "      <th>4072</th>\n",
       "      <td>2</td>\n",
       "      <td>7</td>\n",
       "      <td>Haiti</td>\n",
       "      <td>disaster related location</td>\n",
       "      <td>0.999413</td>\n",
       "      <td>997</td>\n",
       "    </tr>\n",
       "    <tr>\n",
       "      <th>3611</th>\n",
       "      <td>82</td>\n",
       "      <td>88</td>\n",
       "      <td>Mexico</td>\n",
       "      <td>disaster related location</td>\n",
       "      <td>0.996668</td>\n",
       "      <td>885</td>\n",
       "    </tr>\n",
       "    <tr>\n",
       "      <th>1577</th>\n",
       "      <td>0</td>\n",
       "      <td>14</td>\n",
       "      <td>Bonita Springs</td>\n",
       "      <td>disaster related location</td>\n",
       "      <td>0.912909</td>\n",
       "      <td>390</td>\n",
       "    </tr>\n",
       "    <tr>\n",
       "      <th>3546</th>\n",
       "      <td>90</td>\n",
       "      <td>103</td>\n",
       "      <td>Fort McMurray</td>\n",
       "      <td>disaster related location</td>\n",
       "      <td>0.850488</td>\n",
       "      <td>869</td>\n",
       "    </tr>\n",
       "    <tr>\n",
       "      <th>3575</th>\n",
       "      <td>0</td>\n",
       "      <td>5</td>\n",
       "      <td>JAMMU</td>\n",
       "      <td>disaster related location</td>\n",
       "      <td>0.933096</td>\n",
       "      <td>877</td>\n",
       "    </tr>\n",
       "    <tr>\n",
       "      <th>180</th>\n",
       "      <td>98</td>\n",
       "      <td>106</td>\n",
       "      <td>SriLanka</td>\n",
       "      <td>disaster related location</td>\n",
       "      <td>0.997957</td>\n",
       "      <td>38</td>\n",
       "    </tr>\n",
       "    <tr>\n",
       "      <th>4382</th>\n",
       "      <td>33</td>\n",
       "      <td>50</td>\n",
       "      <td>Palm Beach County</td>\n",
       "      <td>disaster related location</td>\n",
       "      <td>0.835720</td>\n",
       "      <td>1085</td>\n",
       "    </tr>\n",
       "  </tbody>\n",
       "</table>\n",
       "</div>"
      ],
      "text/plain": [
       "      start  end               text                      label     score  \\\n",
       "1010     28   36           Florence  disaster related location  0.537928   \n",
       "2531     54   62           Florence  disaster related location  0.536101   \n",
       "413      37   45           Carolina  disaster related location  0.856449   \n",
       "4072      2    7              Haiti  disaster related location  0.999413   \n",
       "3611     82   88             Mexico  disaster related location  0.996668   \n",
       "1577      0   14     Bonita Springs  disaster related location  0.912909   \n",
       "3546     90  103      Fort McMurray  disaster related location  0.850488   \n",
       "3575      0    5              JAMMU  disaster related location  0.933096   \n",
       "180      98  106           SriLanka  disaster related location  0.997957   \n",
       "4382     33   50  Palm Beach County  disaster related location  0.835720   \n",
       "\n",
       "      raw_id  \n",
       "1010     238  \n",
       "2531     630  \n",
       "413      100  \n",
       "4072     997  \n",
       "3611     885  \n",
       "1577     390  \n",
       "3546     869  \n",
       "3575     877  \n",
       "180       38  \n",
       "4382    1085  "
      ]
     },
     "execution_count": 7,
     "metadata": {},
     "output_type": "execute_result"
    }
   ],
   "source": [
    "preds = pd.DataFrame(all_predictions)\n",
    "\n",
    "preds.sample(10)"
   ]
  },
  {
   "cell_type": "code",
   "execution_count": 8,
   "metadata": {},
   "outputs": [
    {
     "data": {
      "text/plain": [
       "label\n",
       "disaster related location    6543\n",
       "Name: count, dtype: int64"
      ]
     },
     "execution_count": 8,
     "metadata": {},
     "output_type": "execute_result"
    }
   ],
   "source": [
    "preds[\"label\"].value_counts()"
   ]
  },
  {
   "cell_type": "code",
   "execution_count": 9,
   "metadata": {},
   "outputs": [],
   "source": [
    "def create_predictions(raw: pd.DataFrame):\n",
    "\tentities = raw.to_dict(\"records\")\n",
    "\tfiltered_entities = []\n",
    "\tseen = {}\n",
    "\n",
    "\tfor entity in entities:\n",
    "\t\tlabel = entity['label']\n",
    "\t\ttext = entity['text']\n",
    "\t\t\n",
    "\t\t# Check if we have already seen this label-text pair\n",
    "\t\tif (label, text) not in seen:\n",
    "\t\t\t# Add to seen dictionary with the entity itself\n",
    "\t\t\tseen[(label, text)] = entity\n",
    "\t\telse:\n",
    "\t\t\t# If the entity already exists, keep the one with the higher score\n",
    "\t\t\tif entity['score'] > seen[(label, text)]['score']:\n",
    "\t\t\t\tseen[(label, text)] = entity\n",
    "\n",
    "\t# Add unique/high-score entities to filtered list\n",
    "\tfiltered_entities = list(seen.values())\n",
    "\n",
    "\t# Step 2: Sort the entities first by label hierarchy and then by start index for duplicates\n",
    "\tsorted_entities = sorted(filtered_entities, key=lambda x: x['text'])\n",
    "\treturn sorted_entities\n",
    "\n",
    "structured_preds = preds.groupby(\"raw_id\")[preds.columns].apply(create_predictions)"
   ]
  },
  {
   "cell_type": "code",
   "execution_count": 10,
   "metadata": {},
   "outputs": [
    {
     "data": {
      "text/plain": [
       "raw_id\n",
       "729     [{'start': 0, 'end': 6, 'text': 'Punjab', 'lab...\n",
       "285     [{'start': 79, 'end': 84, 'text': 'Miami', 'la...\n",
       "1124    [{'start': 0, 'end': 11, 'text': 'New Zealand'...\n",
       "115     [{'start': 83, 'end': 92, 'text': 'Aranayake',...\n",
       "1492    [{'start': 105, 'end': 107, 'text': 'NC', 'lab...\n",
       "746     [{'start': 23, 'end': 33, 'text': 'SouthTexas'...\n",
       "1416    [{'start': 39, 'end': 46, 'text': 'Ecuador', '...\n",
       "270     [{'start': 57, 'end': 59, 'text': 'NC', 'label...\n",
       "523     [{'start': 58, 'end': 68, 'text': 'California'...\n",
       "687     [{'start': 0, 'end': 10, 'text': 'California',...\n",
       "dtype: object"
      ]
     },
     "execution_count": 10,
     "metadata": {},
     "output_type": "execute_result"
    }
   ],
   "source": [
    "structured_preds.sample(10)"
   ]
  },
  {
   "cell_type": "code",
   "execution_count": 11,
   "metadata": {},
   "outputs": [
    {
     "data": {
      "text/plain": [
       "[{'start': 60,\n",
       "  'end': 65,\n",
       "  'text': 'Texas',\n",
       "  'label': 'disaster related location',\n",
       "  'score': 0.9987847208976746,\n",
       "  'raw_id': 0},\n",
       " {'start': 9,\n",
       "  'end': 27,\n",
       "  'text': 'Wright - Patterson',\n",
       "  'label': 'disaster related location',\n",
       "  'score': 0.2057553082704544,\n",
       "  'raw_id': 0}]"
      ]
     },
     "execution_count": 11,
     "metadata": {},
     "output_type": "execute_result"
    }
   ],
   "source": [
    "structured_preds.loc[0]"
   ]
  },
  {
   "cell_type": "code",
   "execution_count": 12,
   "metadata": {},
   "outputs": [
    {
     "data": {
      "text/plain": [
       "[{'start': 148,\n",
       "  'end': 158,\n",
       "  'text': 'Mozambique',\n",
       "  'label': 'disaster related location',\n",
       "  'score': 0.9995207786560059,\n",
       "  'raw_id': 912}]"
      ]
     },
     "execution_count": 12,
     "metadata": {},
     "output_type": "execute_result"
    }
   ],
   "source": [
    "structured_preds.loc[912]"
   ]
  },
  {
   "cell_type": "code",
   "execution_count": 13,
   "metadata": {},
   "outputs": [
    {
     "data": {
      "text/plain": [
       "count    1645.000000\n",
       "mean        1.316717\n",
       "std         1.415931\n",
       "min         0.000000\n",
       "25%         0.000000\n",
       "50%         1.000000\n",
       "75%         2.000000\n",
       "max        19.000000\n",
       "Name: location, dtype: float64"
      ]
     },
     "execution_count": 13,
     "metadata": {},
     "output_type": "execute_result"
    }
   ],
   "source": [
    "import numpy as np\n",
    "\n",
    "test_data.reset_index(drop=True, inplace=True)\n",
    "\n",
    "n_position = test_data[\"location\"].apply(lambda x: len(str(x).split()))\n",
    "\n",
    "n_position.describe()"
   ]
  },
  {
   "cell_type": "code",
   "execution_count": 14,
   "metadata": {},
   "outputs": [
    {
     "data": {
      "text/plain": [
       "(1645, 1316)"
      ]
     },
     "execution_count": 14,
     "metadata": {},
     "output_type": "execute_result"
    }
   ],
   "source": [
    "prediction_list = structured_preds.tolist()\n",
    "expected = [i or \"@\" for i in test_data[\"location\"]]\n",
    "\n",
    "len(expected), len(prediction_list)"
   ]
  },
  {
   "cell_type": "code",
   "execution_count": 15,
   "metadata": {},
   "outputs": [
    {
     "data": {
      "text/plain": [
       "0.19946707270650932"
      ]
     },
     "execution_count": 15,
     "metadata": {},
     "output_type": "execute_result"
    }
   ],
   "source": [
    "from evaluate import load\n",
    "\n",
    "wer = load(\"wer\")\n",
    "\n",
    "def extract_predictions(thr = .5):\n",
    "    order_element = lambda line: sorted(\n",
    "        line, key=lambda x:  x[\"text\"]\n",
    "    )\n",
    "    raws = [\n",
    "        [j for j in i if j[\"score\"] > thr]\n",
    "        for i in prediction_list\n",
    "    ]\n",
    "    raws = [order_element(i) for i in raws]\n",
    "\n",
    "    raws = {i[0][\"raw_id\"]: \" \".join(j[\"text\"] for j in i) for i in raws if i}\n",
    "    preds = [raws.get(i, \"@\") for i in range(len(expected))]\n",
    "    # refs = references[\"location\"].fillna(\" \").tolist()\n",
    "    return wer.compute(predictions=preds, references=expected)\n",
    "\n",
    "extract_predictions()"
   ]
  },
  {
   "cell_type": "code",
   "execution_count": 16,
   "metadata": {},
   "outputs": [
    {
     "name": "stdout",
     "output_type": "stream",
     "text": [
      "0.2805481537875904 0.1\n",
      "0.2763608679101637 0.11836734693877551\n",
      "0.2695089455652836 0.13673469387755102\n",
      "0.2657023220403502 0.15510204081632656\n",
      "0.2577084126379901 0.17346938775510207\n",
      "0.24743052912066996 0.19183673469387758\n",
      "0.24095926912828322 0.21020408163265308\n",
      "0.2360106585458698 0.2285714285714286\n",
      "0.2268747620860297 0.2469387755102041\n",
      "0.22230681385610962 0.2653061224489796\n",
      "0.21964217738865627 0.2836734693877551\n",
      "0.2131709173962695 0.3020408163265306\n",
      "0.20860296916634946 0.3387755102040817\n",
      "0.20822230681385612 0.3571428571428572\n",
      "0.20784164446136277 0.3755102040816327\n",
      "0.20555767034640274 0.3938775510204082\n",
      "0.2032736962314427 0.41224489795918373\n",
      "0.19946707270650932 0.43061224489795924\n",
      "0.19870574800152266 0.46734693877551026\n",
      "0.19756376094404263 0.5775510204081633\n"
     ]
    }
   ],
   "source": [
    "best_score, best_thr = 1000, 0\n",
    "for thr in np.linspace(0.1, 1, 50):\n",
    "    score = extract_predictions(thr)\n",
    "    if score < best_score:\n",
    "        best_score = score\n",
    "        best_thr = thr\n",
    "        print(score, thr)"
   ]
  },
  {
   "cell_type": "code",
   "execution_count": null,
   "metadata": {},
   "outputs": [],
   "source": []
  }
 ],
 "metadata": {
  "kernelspec": {
   "display_name": ".venv",
   "language": "python",
   "name": "python3"
  },
  "language_info": {
   "codemirror_mode": {
    "name": "ipython",
    "version": 3
   },
   "file_extension": ".py",
   "mimetype": "text/x-python",
   "name": "python",
   "nbconvert_exporter": "python",
   "pygments_lexer": "ipython3",
   "version": "3.9.18"
  }
 },
 "nbformat": 4,
 "nbformat_minor": 2
}
