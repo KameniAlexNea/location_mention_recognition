{
 "cells": [
  {
   "cell_type": "code",
   "execution_count": 1,
   "metadata": {},
   "outputs": [],
   "source": [
    "import os\n",
    "\n",
    "os.environ[\"TOKENIZERS_PARALLELISM\"] = \"true\"\n",
    "os.environ[\"CUDA_DEVICE_ORDER\"] = \"PCI_BUS_ID\"\n",
    "os.environ[\"CUDA_VISIBLE_DEVICES\"] = \"1\"\n",
    "\n",
    "\n",
    "import json\n",
    "import random\n",
    "from glob import glob\n",
    "\n",
    "import pandas as pd\n",
    "from gliner import GLiNER"
   ]
  },
  {
   "cell_type": "code",
   "execution_count": null,
   "metadata": {},
   "outputs": [],
   "source": [
    "models_path = glob(\"models/checkpoint-*\")\n",
    "task_id = \"32\"\n",
    "loss_max = 21.5\n",
    "thr = 0.65\n",
    "\n",
    "paths = []\n",
    "\n",
    "for path in models_path:\n",
    "    perf_file = json.load(open(os.path.join(path, \"trainer_state.json\"), \"r\"))[\"log_history\"]\n",
    "    for i in perf_file[::-1]:\n",
    "        if \"eval_loss\" in i:\n",
    "            break\n",
    "    if i[\"eval_loss\"] <= loss_max:\n",
    "        paths.append(path)\n",
    "\n",
    "paths"
   ]
  },
  {
   "cell_type": "code",
   "execution_count": null,
   "metadata": {},
   "outputs": [],
   "source": [
    "models = [\n",
    "    GLiNER.from_pretrained(path,).cuda() for path in paths\n",
    "]"
   ]
  },
  {
   "cell_type": "code",
   "execution_count": null,
   "metadata": {},
   "outputs": [],
   "source": [
    "test_data = pd.read_csv(\"microsoft-learn-location-mention-recognition-challenge20240905-10153-193u9hv/Test.csv\")\n",
    "\n",
    "test_data = test_data.fillna(\"\")\n",
    "\n",
    "# test_data[\"text\"] = test_data[\"text\"].apply(lambda x: \" \".join(split_and_clean(x)))\n",
    "test_data.sample(10)"
   ]
  },
  {
   "cell_type": "code",
   "execution_count": null,
   "metadata": {},
   "outputs": [],
   "source": [
    "from tqdm import tqdm\n",
    "\n",
    "label_name = [\"disaster related location\"]\n",
    "\n",
    "\n",
    "def make_predictions(batch: list[str]):\n",
    "    preds = [\n",
    "        sum(rows, start=[])\n",
    "        for rows in zip(\n",
    "            *[\n",
    "                model.batch_predict_entities(batch, label_name, threshold=0.05)\n",
    "                for model in models\n",
    "            ]\n",
    "        )\n",
    "    ]\n",
    "    return preds\n",
    "\n",
    "\n",
    "texts = test_data[\"text\"].tolist()\n",
    "bsize = 256\n",
    "\n",
    "predictions = [\n",
    "    make_predictions(texts[i : i + bsize])\n",
    "    for i in tqdm(range(0, len(texts), bsize))\n",
    "]\n",
    "\n",
    "len(predictions)"
   ]
  },
  {
   "cell_type": "code",
   "execution_count": null,
   "metadata": {},
   "outputs": [],
   "source": [
    "all_predictions = sum(predictions, start=[])\n",
    "\n",
    "def drop_duplicate(places):\n",
    "    return sorted(list(set(places)))\n",
    "# 0.65\n",
    "raws = [\n",
    "\t\" \".join(drop_duplicate(i[\"text\"] for i in pred if i[\"score\"] > .7)) or \" \" for pred in all_predictions\n",
    "]"
   ]
  },
  {
   "cell_type": "code",
   "execution_count": null,
   "metadata": {},
   "outputs": [],
   "source": [
    "submission = test_data[[\"tweet_id\"]]\n",
    "submission[\"location\"] = raws\n",
    "\n",
    "submission.sample(10)"
   ]
  },
  {
   "cell_type": "code",
   "execution_count": null,
   "metadata": {},
   "outputs": [],
   "source": [
    "submission[submission[\"location\"] == \" \"]"
   ]
  },
  {
   "cell_type": "code",
   "execution_count": 9,
   "metadata": {},
   "outputs": [],
   "source": [
    "submission.to_csv(f\"submissions/{task_id}-GlinerLargeSplit.csv\", index=False)"
   ]
  },
  {
   "cell_type": "code",
   "execution_count": null,
   "metadata": {},
   "outputs": [],
   "source": [
    "f\"submissions/{task_id}-GlinerLargeSplit.csv\""
   ]
  },
  {
   "cell_type": "code",
   "execution_count": null,
   "metadata": {},
   "outputs": [],
   "source": []
  },
  {
   "cell_type": "code",
   "execution_count": null,
   "metadata": {},
   "outputs": [],
   "source": []
  },
  {
   "cell_type": "code",
   "execution_count": null,
   "metadata": {},
   "outputs": [],
   "source": []
  },
  {
   "cell_type": "code",
   "execution_count": null,
   "metadata": {},
   "outputs": [],
   "source": []
  }
 ],
 "metadata": {
  "kernelspec": {
   "display_name": ".venv",
   "language": "python",
   "name": "python3"
  },
  "language_info": {
   "codemirror_mode": {
    "name": "ipython",
    "version": 3
   },
   "file_extension": ".py",
   "mimetype": "text/x-python",
   "name": "python",
   "nbconvert_exporter": "python",
   "pygments_lexer": "ipython3",
   "version": "3.9.18"
  }
 },
 "nbformat": 4,
 "nbformat_minor": 2
}
