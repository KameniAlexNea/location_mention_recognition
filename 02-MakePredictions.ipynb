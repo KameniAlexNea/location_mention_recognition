{
 "cells": [
  {
   "cell_type": "code",
   "execution_count": 1,
   "metadata": {},
   "outputs": [],
   "source": [
    "import os\n",
    "\n",
    "os.environ[\"TOKENIZERS_PARALLELISM\"] = \"true\"\n",
    "os.environ[\"CUDA_DEVICE_ORDER\"] = \"PCI_BUS_ID\"\n",
    "os.environ[\"CUDA_VISIBLE_DEVICES\"] = \"1\"\n",
    "\n",
    "os.environ[\"WANDB_PROJECT\"] = \"mscft_ner\"\n",
    "# os.environ[\"WANDB_LOG_MODEL\"] = \"true\"\n",
    "# os.environ[\"WANDB_WATCH\"] = \"none\"\n",
    "\n",
    "import json\n",
    "import random\n",
    "from glob import glob\n",
    "\n",
    "import pandas as pd\n",
    "from gliner import GLiNER"
   ]
  },
  {
   "cell_type": "code",
   "execution_count": 2,
   "metadata": {},
   "outputs": [
    {
     "name": "stderr",
     "output_type": "stream",
     "text": [
      "config.json not found in /data/home/eak/learning/zindi_challenge/micro_rec/models/checkpoint-1848\n"
     ]
    }
   ],
   "source": [
    "PATH = \"models/checkpoint-1848\" # \"urchade/gliner_small-v2.1\"\n",
    "\n",
    "model = GLiNER.from_pretrained(PATH,).cuda() #  load_tokenizer=True"
   ]
  },
  {
   "cell_type": "code",
   "execution_count": null,
   "metadata": {},
   "outputs": [
    {
     "name": "stdout",
     "output_type": "stream",
     "text": [
      "1645\n"
     ]
    },
    {
     "data": {
      "text/html": [
       "<div>\n",
       "<style scoped>\n",
       "    .dataframe tbody tr th:only-of-type {\n",
       "        vertical-align: middle;\n",
       "    }\n",
       "\n",
       "    .dataframe tbody tr th {\n",
       "        vertical-align: top;\n",
       "    }\n",
       "\n",
       "    .dataframe thead th {\n",
       "        text-align: right;\n",
       "    }\n",
       "</style>\n",
       "<table border=\"1\" class=\"dataframe\">\n",
       "  <thead>\n",
       "    <tr style=\"text-align: right;\">\n",
       "      <th></th>\n",
       "      <th>text</th>\n",
       "      <th>location</th>\n",
       "    </tr>\n",
       "  </thead>\n",
       "  <tbody>\n",
       "    <tr>\n",
       "      <th>1194</th>\n",
       "      <td>The best thing central Floridians can do with ...</td>\n",
       "      <td></td>\n",
       "    </tr>\n",
       "    <tr>\n",
       "      <th>637</th>\n",
       "      <td>Largest evacuation in 25 years underway in # F...</td>\n",
       "      <td>Florida</td>\n",
       "    </tr>\n",
       "    <tr>\n",
       "      <th>1035</th>\n",
       "      <td>Our @ ArtofLiving 2nd Truck , with 4 Tons of F...</td>\n",
       "      <td>Ernakulam</td>\n",
       "    </tr>\n",
       "    <tr>\n",
       "      <th>746</th>\n",
       "      <td>Verizon customers in # SouthTexas , our data r...</td>\n",
       "      <td></td>\n",
       "    </tr>\n",
       "    <tr>\n",
       "      <th>565</th>\n",
       "      <td>Venezuela to send humanitarian aid to hurrican...</td>\n",
       "      <td>Haiti Venezuela</td>\n",
       "    </tr>\n",
       "  </tbody>\n",
       "</table>\n",
       "</div>"
      ],
      "text/plain": [
       "                                                   text         location\n",
       "1194  The best thing central Floridians can do with ...                 \n",
       "637   Largest evacuation in 25 years underway in # F...          Florida\n",
       "1035  Our @ ArtofLiving 2nd Truck , with 4 Tons of F...        Ernakulam\n",
       "746   Verizon customers in # SouthTexas , our data r...                 \n",
       "565   Venezuela to send humanitarian aid to hurrican...  Haiti Venezuela"
      ]
     },
     "execution_count": 3,
     "metadata": {},
     "output_type": "execute_result"
    }
   ],
   "source": [
    "raw_test = json.load(open(\"data/accepted_data/TestCleaned.json\"))\n",
    "location_name = \"location\" # \"disaster related location\"\n",
    "for i in raw_test:\n",
    "\t# i[\"label\"] = labels\n",
    "\tfor row in i[\"ner\"]:\n",
    "\t\trow[-1] = location_name\n",
    "\n",
    "texts = [\n",
    "    \" \".join(i[\"tokenized_text\"]) for i in raw_test\n",
    "]\n",
    "\n",
    "def get_expected(raw):\n",
    "    entities = [\n",
    "        \" \".join(raw[\"tokenized_text\"][i[0]: i[1] + 1]) for i in raw[\"ner\"]\n",
    "    ]\n",
    "    return \" \".join(sorted(entities))\n",
    "ners = [\n",
    "    get_expected(i) for i in raw_test\n",
    "]\n",
    "test_data = pd.DataFrame(zip(texts, ners), columns=[\"text\", \"location\"])\n",
    "print(len(test_data))\n",
    "\n",
    "test_data.sample(5)"
   ]
  },
  {
   "cell_type": "code",
   "execution_count": 4,
   "metadata": {},
   "outputs": [
    {
     "name": "stderr",
     "output_type": "stream",
     "text": [
      "  0%|          | 0/7 [00:00<?, ?it/s]Asking to truncate to max_length but no maximum length is provided and the model has no predefined maximum length. Default to no truncation.\n"
     ]
    },
    {
     "name": "stderr",
     "output_type": "stream",
     "text": [
      "100%|██████████| 7/7 [00:08<00:00,  1.26s/it]\n"
     ]
    },
    {
     "data": {
      "text/plain": [
       "7"
      ]
     },
     "execution_count": 4,
     "metadata": {},
     "output_type": "execute_result"
    }
   ],
   "source": [
    "from tqdm import tqdm\n",
    "\n",
    "texts = test_data[\"text\"].tolist()\n",
    "bsize = 256\n",
    "\n",
    "predictions = [\n",
    "\tmodel.batch_predict_entities(texts[i: i+bsize], [\"disaster related location\"], threshold=.05) for i in tqdm(range(0, len(texts), bsize))\n",
    "]\n",
    "\n",
    "len(predictions)"
   ]
  },
  {
   "cell_type": "code",
   "execution_count": 5,
   "metadata": {},
   "outputs": [
    {
     "data": {
      "text/plain": [
       "[{'start': 60,\n",
       "  'end': 65,\n",
       "  'text': 'Texas',\n",
       "  'label': 'disaster related location',\n",
       "  'score': 0.9944333434104919,\n",
       "  'raw_id': 0},\n",
       " {'start': 83,\n",
       "  'end': 92,\n",
       "  'text': 'Islamabad',\n",
       "  'label': 'disaster related location',\n",
       "  'score': 0.9199880957603455,\n",
       "  'raw_id': 1},\n",
       " {'start': 206,\n",
       "  'end': 210,\n",
       "  'text': 'NDMA',\n",
       "  'label': 'disaster related location',\n",
       "  'score': 0.17284485697746277,\n",
       "  'raw_id': 1},\n",
       " {'start': 38,\n",
       "  'end': 49,\n",
       "  'text': 'Californias',\n",
       "  'label': 'disaster related location',\n",
       "  'score': 0.4454416036605835,\n",
       "  'raw_id': 2},\n",
       " {'start': 112,\n",
       "  'end': 119,\n",
       "  'text': 'U . S .',\n",
       "  'label': 'disaster related location',\n",
       "  'score': 0.7139996886253357,\n",
       "  'raw_id': 2}]"
      ]
     },
     "execution_count": 5,
     "metadata": {},
     "output_type": "execute_result"
    }
   ],
   "source": [
    "thr = .05\n",
    "\n",
    "all_predictions = sum(predictions, start=[])\n",
    "\n",
    "all_predictions = [\n",
    "\t[i for i in raws if i[\"score\"] >= thr] for raws in all_predictions\n",
    "]\n",
    "\n",
    "for i, raw in enumerate(all_predictions):\n",
    "\tfor j in raw:\n",
    "\t\tj[\"raw_id\"] = i\n",
    "\n",
    "all_predictions = sum(all_predictions, start=[])\n",
    "all_predictions[:5]"
   ]
  },
  {
   "cell_type": "code",
   "execution_count": 6,
   "metadata": {},
   "outputs": [
    {
     "data": {
      "text/html": [
       "<div>\n",
       "<style scoped>\n",
       "    .dataframe tbody tr th:only-of-type {\n",
       "        vertical-align: middle;\n",
       "    }\n",
       "\n",
       "    .dataframe tbody tr th {\n",
       "        vertical-align: top;\n",
       "    }\n",
       "\n",
       "    .dataframe thead th {\n",
       "        text-align: right;\n",
       "    }\n",
       "</style>\n",
       "<table border=\"1\" class=\"dataframe\">\n",
       "  <thead>\n",
       "    <tr style=\"text-align: right;\">\n",
       "      <th></th>\n",
       "      <th>start</th>\n",
       "      <th>end</th>\n",
       "      <th>text</th>\n",
       "      <th>label</th>\n",
       "      <th>score</th>\n",
       "      <th>raw_id</th>\n",
       "    </tr>\n",
       "  </thead>\n",
       "  <tbody>\n",
       "    <tr>\n",
       "      <th>2428</th>\n",
       "      <td>30</td>\n",
       "      <td>43</td>\n",
       "      <td>Triangle Area</td>\n",
       "      <td>disaster related location</td>\n",
       "      <td>0.606575</td>\n",
       "      <td>1428</td>\n",
       "    </tr>\n",
       "    <tr>\n",
       "      <th>1380</th>\n",
       "      <td>185</td>\n",
       "      <td>193</td>\n",
       "      <td>Zimbabwe</td>\n",
       "      <td>disaster related location</td>\n",
       "      <td>0.922686</td>\n",
       "      <td>810</td>\n",
       "    </tr>\n",
       "    <tr>\n",
       "      <th>242</th>\n",
       "      <td>188</td>\n",
       "      <td>198</td>\n",
       "      <td>Mozambique</td>\n",
       "      <td>disaster related location</td>\n",
       "      <td>0.991964</td>\n",
       "      <td>137</td>\n",
       "    </tr>\n",
       "    <tr>\n",
       "      <th>900</th>\n",
       "      <td>37</td>\n",
       "      <td>45</td>\n",
       "      <td>Nebraska</td>\n",
       "      <td>disaster related location</td>\n",
       "      <td>0.106825</td>\n",
       "      <td>514</td>\n",
       "    </tr>\n",
       "    <tr>\n",
       "      <th>2607</th>\n",
       "      <td>4</td>\n",
       "      <td>13</td>\n",
       "      <td>Johnstown</td>\n",
       "      <td>disaster related location</td>\n",
       "      <td>0.829947</td>\n",
       "      <td>1531</td>\n",
       "    </tr>\n",
       "    <tr>\n",
       "      <th>198</th>\n",
       "      <td>51</td>\n",
       "      <td>74</td>\n",
       "      <td>Cape Canaveral Hospital</td>\n",
       "      <td>disaster related location</td>\n",
       "      <td>0.630374</td>\n",
       "      <td>111</td>\n",
       "    </tr>\n",
       "    <tr>\n",
       "      <th>2642</th>\n",
       "      <td>0</td>\n",
       "      <td>8</td>\n",
       "      <td>FLOODING</td>\n",
       "      <td>disaster related location</td>\n",
       "      <td>0.079737</td>\n",
       "      <td>1555</td>\n",
       "    </tr>\n",
       "    <tr>\n",
       "      <th>2235</th>\n",
       "      <td>33</td>\n",
       "      <td>43</td>\n",
       "      <td>California</td>\n",
       "      <td>disaster related location</td>\n",
       "      <td>0.846981</td>\n",
       "      <td>1312</td>\n",
       "    </tr>\n",
       "    <tr>\n",
       "      <th>1588</th>\n",
       "      <td>5</td>\n",
       "      <td>22</td>\n",
       "      <td>automotive plants</td>\n",
       "      <td>disaster related location</td>\n",
       "      <td>0.099825</td>\n",
       "      <td>917</td>\n",
       "    </tr>\n",
       "    <tr>\n",
       "      <th>1944</th>\n",
       "      <td>110</td>\n",
       "      <td>116</td>\n",
       "      <td>Mexico</td>\n",
       "      <td>disaster related location</td>\n",
       "      <td>0.997574</td>\n",
       "      <td>1136</td>\n",
       "    </tr>\n",
       "  </tbody>\n",
       "</table>\n",
       "</div>"
      ],
      "text/plain": [
       "      start  end                     text                      label  \\\n",
       "2428     30   43            Triangle Area  disaster related location   \n",
       "1380    185  193                 Zimbabwe  disaster related location   \n",
       "242     188  198               Mozambique  disaster related location   \n",
       "900      37   45                 Nebraska  disaster related location   \n",
       "2607      4   13                Johnstown  disaster related location   \n",
       "198      51   74  Cape Canaveral Hospital  disaster related location   \n",
       "2642      0    8                 FLOODING  disaster related location   \n",
       "2235     33   43               California  disaster related location   \n",
       "1588      5   22        automotive plants  disaster related location   \n",
       "1944    110  116                   Mexico  disaster related location   \n",
       "\n",
       "         score  raw_id  \n",
       "2428  0.606575    1428  \n",
       "1380  0.922686     810  \n",
       "242   0.991964     137  \n",
       "900   0.106825     514  \n",
       "2607  0.829947    1531  \n",
       "198   0.630374     111  \n",
       "2642  0.079737    1555  \n",
       "2235  0.846981    1312  \n",
       "1588  0.099825     917  \n",
       "1944  0.997574    1136  "
      ]
     },
     "execution_count": 6,
     "metadata": {},
     "output_type": "execute_result"
    }
   ],
   "source": [
    "preds = pd.DataFrame(all_predictions)\n",
    "\n",
    "preds.sample(10)"
   ]
  },
  {
   "cell_type": "code",
   "execution_count": 7,
   "metadata": {},
   "outputs": [
    {
     "data": {
      "text/plain": [
       "label\n",
       "disaster related location    2794\n",
       "Name: count, dtype: int64"
      ]
     },
     "execution_count": 7,
     "metadata": {},
     "output_type": "execute_result"
    }
   ],
   "source": [
    "preds[\"label\"].value_counts()"
   ]
  },
  {
   "cell_type": "code",
   "execution_count": 8,
   "metadata": {},
   "outputs": [],
   "source": [
    "def create_predictions(raw: pd.DataFrame):\n",
    "\tentities = raw.to_dict(\"records\")\n",
    "\tfiltered_entities = []\n",
    "\tseen = {}\n",
    "\n",
    "\tfor entity in entities:\n",
    "\t\tlabel = entity['label']\n",
    "\t\ttext = entity['text']\n",
    "\t\t\n",
    "\t\t# Check if we have already seen this label-text pair\n",
    "\t\tif (label, text) not in seen:\n",
    "\t\t\t# Add to seen dictionary with the entity itself\n",
    "\t\t\tseen[(label, text)] = entity\n",
    "\t\telse:\n",
    "\t\t\t# If the entity already exists, keep the one with the higher score\n",
    "\t\t\tif entity['score'] > seen[(label, text)]['score']:\n",
    "\t\t\t\tseen[(label, text)] = entity\n",
    "\n",
    "\t# Add unique/high-score entities to filtered list\n",
    "\tfiltered_entities = list(seen.values())\n",
    "\n",
    "\t# Step 2: Sort the entities first by label hierarchy and then by start index for duplicates\n",
    "\tsorted_entities = sorted(filtered_entities, key=lambda x: x['text'])\n",
    "\treturn sorted_entities\n",
    "\n",
    "structured_preds = preds.groupby(\"raw_id\")[preds.columns].apply(create_predictions)"
   ]
  },
  {
   "cell_type": "code",
   "execution_count": 9,
   "metadata": {},
   "outputs": [
    {
     "data": {
      "text/plain": [
       "raw_id\n",
       "360     [{'start': 59, 'end': 64, 'text': 'Haiti', 'la...\n",
       "804     [{'start': 87, 'end': 98, 'text': 'CicloneIdai...\n",
       "691     [{'start': 38, 'end': 46, 'text': 'Chipinge', ...\n",
       "728     [{'start': 57, 'end': 66, 'text': 'Sri Lanka',...\n",
       "563     [{'start': 19, 'end': 32, 'text': 'Fort McMurr...\n",
       "131     [{'start': 2, 'end': 17, 'text': 'HurricaneHar...\n",
       "1357    [{'start': 165, 'end': 171, 'text': 'Grecia', ...\n",
       "278     [{'start': 75, 'end': 83, 'text': 'Pakistan', ...\n",
       "1625    [{'start': 59, 'end': 65, 'text': 'Greece', 'l...\n",
       "1191    [{'start': 14, 'end': 22, 'text': 'Nebraska', ...\n",
       "dtype: object"
      ]
     },
     "execution_count": 9,
     "metadata": {},
     "output_type": "execute_result"
    }
   ],
   "source": [
    "structured_preds.sample(10)"
   ]
  },
  {
   "cell_type": "code",
   "execution_count": 10,
   "metadata": {},
   "outputs": [
    {
     "data": {
      "text/plain": [
       "[{'start': 60,\n",
       "  'end': 65,\n",
       "  'text': 'Texas',\n",
       "  'label': 'disaster related location',\n",
       "  'score': 0.9944333434104919,\n",
       "  'raw_id': 0}]"
      ]
     },
     "execution_count": 10,
     "metadata": {},
     "output_type": "execute_result"
    }
   ],
   "source": [
    "structured_preds.loc[0]"
   ]
  },
  {
   "cell_type": "code",
   "execution_count": 11,
   "metadata": {},
   "outputs": [
    {
     "data": {
      "text/plain": [
       "[{'start': 32,\n",
       "  'end': 44,\n",
       "  'text': 'Cyclone Idai',\n",
       "  'label': 'disaster related location',\n",
       "  'score': 0.09712756425142288,\n",
       "  'raw_id': 912},\n",
       " {'start': 148,\n",
       "  'end': 158,\n",
       "  'text': 'Mozambique',\n",
       "  'label': 'disaster related location',\n",
       "  'score': 0.9948888421058655,\n",
       "  'raw_id': 912}]"
      ]
     },
     "execution_count": 11,
     "metadata": {},
     "output_type": "execute_result"
    }
   ],
   "source": [
    "structured_preds.loc[912]"
   ]
  },
  {
   "cell_type": "code",
   "execution_count": 12,
   "metadata": {},
   "outputs": [
    {
     "data": {
      "text/plain": [
       "array(['As the official death toll from Cyclone Idai rises sharply , the BBCs @ Pumza_Fihlani witnesses the trail of destruction that has left thousands in Mozambique stranded and homeless [ tap to expand ]',\n",
       "       'Mozambique'], dtype=object)"
      ]
     },
     "execution_count": 12,
     "metadata": {},
     "output_type": "execute_result"
    }
   ],
   "source": [
    "test_data.iloc[912].values"
   ]
  },
  {
   "cell_type": "code",
   "execution_count": 13,
   "metadata": {},
   "outputs": [
    {
     "data": {
      "text/plain": [
       "count    1645.000000\n",
       "mean        1.316717\n",
       "std         1.415931\n",
       "min         0.000000\n",
       "25%         0.000000\n",
       "50%         1.000000\n",
       "75%         2.000000\n",
       "max        19.000000\n",
       "Name: location, dtype: float64"
      ]
     },
     "execution_count": 13,
     "metadata": {},
     "output_type": "execute_result"
    }
   ],
   "source": [
    "import numpy as np\n",
    "\n",
    "test_data.reset_index(drop=True, inplace=True)\n",
    "\n",
    "n_position = test_data[\"location\"].apply(lambda x: len(str(x).split()))\n",
    "\n",
    "n_position.describe()"
   ]
  },
  {
   "cell_type": "code",
   "execution_count": 14,
   "metadata": {},
   "outputs": [
    {
     "data": {
      "text/html": [
       "<div>\n",
       "<style scoped>\n",
       "    .dataframe tbody tr th:only-of-type {\n",
       "        vertical-align: middle;\n",
       "    }\n",
       "\n",
       "    .dataframe tbody tr th {\n",
       "        vertical-align: top;\n",
       "    }\n",
       "\n",
       "    .dataframe thead th {\n",
       "        text-align: right;\n",
       "    }\n",
       "</style>\n",
       "<table border=\"1\" class=\"dataframe\">\n",
       "  <thead>\n",
       "    <tr style=\"text-align: right;\">\n",
       "      <th></th>\n",
       "      <th>text</th>\n",
       "      <th>location</th>\n",
       "    </tr>\n",
       "  </thead>\n",
       "  <tbody>\n",
       "    <tr>\n",
       "      <th>2</th>\n",
       "      <td># BREAKING : Death toll from Northern Californ...</td>\n",
       "      <td>Butte County Northern Californias U . S .</td>\n",
       "    </tr>\n",
       "    <tr>\n",
       "      <th>167</th>\n",
       "      <td>Our relief efforts continue to help those impa...</td>\n",
       "      <td>Nebraska Nebraska North Carolina to Omaha</td>\n",
       "    </tr>\n",
       "    <tr>\n",
       "      <th>169</th>\n",
       "      <td># CycloneIdai yet another alarm bell about the...</td>\n",
       "      <td>Boston Chicago D . C . Malawi Mozambique NYC Z...</td>\n",
       "    </tr>\n",
       "    <tr>\n",
       "      <th>209</th>\n",
       "      <td>Why has the media only focused on Irmas damage...</td>\n",
       "      <td>Florida U . S . Virgin Islands</td>\n",
       "    </tr>\n",
       "    <tr>\n",
       "      <th>261</th>\n",
       "      <td>FLOOD WATCH REMAINS IN EFFECT THROUGH TUESDAY ...</td>\n",
       "      <td>Fayette Maryland Maryland Pennsylvania Pennsyl...</td>\n",
       "    </tr>\n",
       "    <tr>\n",
       "      <th>283</th>\n",
       "      <td># KodaguFloodRelief Velayudhan , along with hi...</td>\n",
       "      <td>Karnatakas Kerala Kodagu Kodagu Kushalnagar Ma...</td>\n",
       "    </tr>\n",
       "    <tr>\n",
       "      <th>358</th>\n",
       "      <td>Kudumbasree needs 26750 buckets , mugs , mops ...</td>\n",
       "      <td>Alappuzha Ernakulam Kottayam Pathanamthitta Th...</td>\n",
       "    </tr>\n",
       "    <tr>\n",
       "      <th>378</th>\n",
       "      <td>RT @ TheREALTMGIJane : Lyall Bay , Wellington ...</td>\n",
       "      <td>Lyall Bay New Zealand NewZealand Wellington</td>\n",
       "    </tr>\n",
       "    <tr>\n",
       "      <th>411</th>\n",
       "      <td>Kerala Chief Minister Pinarayi Vijayan will to...</td>\n",
       "      <td>Alappuzha Chalakudy Chengannur Kerala Kozhench...</td>\n",
       "    </tr>\n",
       "    <tr>\n",
       "      <th>464</th>\n",
       "      <td># CycloneIdai : Marowanyati Dam in Murambinda ...</td>\n",
       "      <td>Chimanimani Chimanimani Chipinge Murambinda Mw...</td>\n",
       "    </tr>\n",
       "    <tr>\n",
       "      <th>485</th>\n",
       "      <td>Interesting . China built a military port on A...</td>\n",
       "      <td>Abaco Island Bahamas China U . S .</td>\n",
       "    </tr>\n",
       "    <tr>\n",
       "      <th>488</th>\n",
       "      <td>RT @ NWS_NTWC : Tsunami Info Stmt 4 : M7 . 9 n...</td>\n",
       "      <td>AK CA New Zealand OR WA</td>\n",
       "    </tr>\n",
       "    <tr>\n",
       "      <th>496</th>\n",
       "      <td>Thousands of people in Puerto Rico + the Virgi...</td>\n",
       "      <td>Puerto Rico Virgin Islands the Carolinas</td>\n",
       "    </tr>\n",
       "    <tr>\n",
       "      <th>521</th>\n",
       "      <td>Timely info from Sustainable Maryland on the r...</td>\n",
       "      <td>Jersey Maryland Maryland Township of Monroe</td>\n",
       "    </tr>\n",
       "    <tr>\n",
       "      <th>568</th>\n",
       "      <td># Earthquake in some parts of Pakistan and Aza...</td>\n",
       "      <td>Azad KASHMIR Jaatlaan Jaatlaan Mirpur Pakistan</td>\n",
       "    </tr>\n",
       "    <tr>\n",
       "      <th>732</th>\n",
       "      <td>Hurricane Florence will make U . S . landfall ...</td>\n",
       "      <td>North Carolina South Carolina U . S . Virginia...</td>\n",
       "    </tr>\n",
       "    <tr>\n",
       "      <th>818</th>\n",
       "      <td>Flood Warning for parts of # Loudoun : SOME LO...</td>\n",
       "      <td>ALDIE BELMONT GLEEDSVILLE HAMILTON HUGHESVILLE...</td>\n",
       "    </tr>\n",
       "    <tr>\n",
       "      <th>834</th>\n",
       "      <td>UNICEF delivering aid to Ngangu Township in Ch...</td>\n",
       "      <td>Chimanimani Chimanimani Ngangu Ngangu Zimbabwe...</td>\n",
       "    </tr>\n",
       "    <tr>\n",
       "      <th>835</th>\n",
       "      <td>Thinking of Kaikoura , those trapped on State ...</td>\n",
       "      <td>Canterbury Kaikoura Nelson Wellington highway 1</td>\n",
       "    </tr>\n",
       "    <tr>\n",
       "      <th>1024</th>\n",
       "      <td>Current # GFS # hurricane models for # Dorian ...</td>\n",
       "      <td>Florida Georgia North Carolina South Carolina ...</td>\n",
       "    </tr>\n",
       "    <tr>\n",
       "      <th>1049</th>\n",
       "      <td>RT @ Starseed52 : Exclusive : Island of Vieque...</td>\n",
       "      <td>Island of Vieques PuertoRico SanJuan Vieques</td>\n",
       "    </tr>\n",
       "    <tr>\n",
       "      <th>1071</th>\n",
       "      <td>News article : Puerto Rico destroyed by hurric...</td>\n",
       "      <td>Puerto Rico U . S .</td>\n",
       "    </tr>\n",
       "    <tr>\n",
       "      <th>1170</th>\n",
       "      <td># YouDontSay Hurricane Matthew hitting Bahamas...</td>\n",
       "      <td>Bahamas Haiti Haiti PORT - AU - PRINCE</td>\n",
       "    </tr>\n",
       "    <tr>\n",
       "      <th>1430</th>\n",
       "      <td>RT @ Italians4Trump : HURRICANE MATTHEW STRIKE...</td>\n",
       "      <td>FLORIDA HAITI N . C .</td>\n",
       "    </tr>\n",
       "    <tr>\n",
       "      <th>1434</th>\n",
       "      <td>Hurricane Florence is now a Category 4 storm ,...</td>\n",
       "      <td>North Carolina South Carolina U . S . Virginia</td>\n",
       "    </tr>\n",
       "    <tr>\n",
       "      <th>1451</th>\n",
       "      <td>MUZAFFARABAD / ISLAMABAD : A 5 . 8 - magnitude...</td>\n",
       "      <td>AJK Azad Jammu ISLAMABAD Kashmir MUZAFFARABAD ...</td>\n",
       "    </tr>\n",
       "    <tr>\n",
       "      <th>1555</th>\n",
       "      <td>FLOODING : # MontgomeryCounty # Maryland I - 4...</td>\n",
       "      <td>I - 495 at Route 29 Maryland MontgomeryCounty</td>\n",
       "    </tr>\n",
       "    <tr>\n",
       "      <th>1634</th>\n",
       "      <td>11 / 14 DONATIONS UPDATE : You can send both G...</td>\n",
       "      <td>19 Colusa Street Orland , CA 95963</td>\n",
       "    </tr>\n",
       "  </tbody>\n",
       "</table>\n",
       "</div>"
      ],
      "text/plain": [
       "                                                   text  \\\n",
       "2     # BREAKING : Death toll from Northern Californ...   \n",
       "167   Our relief efforts continue to help those impa...   \n",
       "169   # CycloneIdai yet another alarm bell about the...   \n",
       "209   Why has the media only focused on Irmas damage...   \n",
       "261   FLOOD WATCH REMAINS IN EFFECT THROUGH TUESDAY ...   \n",
       "283   # KodaguFloodRelief Velayudhan , along with hi...   \n",
       "358   Kudumbasree needs 26750 buckets , mugs , mops ...   \n",
       "378   RT @ TheREALTMGIJane : Lyall Bay , Wellington ...   \n",
       "411   Kerala Chief Minister Pinarayi Vijayan will to...   \n",
       "464   # CycloneIdai : Marowanyati Dam in Murambinda ...   \n",
       "485   Interesting . China built a military port on A...   \n",
       "488   RT @ NWS_NTWC : Tsunami Info Stmt 4 : M7 . 9 n...   \n",
       "496   Thousands of people in Puerto Rico + the Virgi...   \n",
       "521   Timely info from Sustainable Maryland on the r...   \n",
       "568   # Earthquake in some parts of Pakistan and Aza...   \n",
       "732   Hurricane Florence will make U . S . landfall ...   \n",
       "818   Flood Warning for parts of # Loudoun : SOME LO...   \n",
       "834   UNICEF delivering aid to Ngangu Township in Ch...   \n",
       "835   Thinking of Kaikoura , those trapped on State ...   \n",
       "1024  Current # GFS # hurricane models for # Dorian ...   \n",
       "1049  RT @ Starseed52 : Exclusive : Island of Vieque...   \n",
       "1071  News article : Puerto Rico destroyed by hurric...   \n",
       "1170  # YouDontSay Hurricane Matthew hitting Bahamas...   \n",
       "1430  RT @ Italians4Trump : HURRICANE MATTHEW STRIKE...   \n",
       "1434  Hurricane Florence is now a Category 4 storm ,...   \n",
       "1451  MUZAFFARABAD / ISLAMABAD : A 5 . 8 - magnitude...   \n",
       "1555  FLOODING : # MontgomeryCounty # Maryland I - 4...   \n",
       "1634  11 / 14 DONATIONS UPDATE : You can send both G...   \n",
       "\n",
       "                                               location  \n",
       "2             Butte County Northern Californias U . S .  \n",
       "167           Nebraska Nebraska North Carolina to Omaha  \n",
       "169   Boston Chicago D . C . Malawi Mozambique NYC Z...  \n",
       "209                      Florida U . S . Virgin Islands  \n",
       "261   Fayette Maryland Maryland Pennsylvania Pennsyl...  \n",
       "283   Karnatakas Kerala Kodagu Kodagu Kushalnagar Ma...  \n",
       "358   Alappuzha Ernakulam Kottayam Pathanamthitta Th...  \n",
       "378         Lyall Bay New Zealand NewZealand Wellington  \n",
       "411   Alappuzha Chalakudy Chengannur Kerala Kozhench...  \n",
       "464   Chimanimani Chimanimani Chipinge Murambinda Mw...  \n",
       "485                  Abaco Island Bahamas China U . S .  \n",
       "488                             AK CA New Zealand OR WA  \n",
       "496            Puerto Rico Virgin Islands the Carolinas  \n",
       "521         Jersey Maryland Maryland Township of Monroe  \n",
       "568      Azad KASHMIR Jaatlaan Jaatlaan Mirpur Pakistan  \n",
       "732   North Carolina South Carolina U . S . Virginia...  \n",
       "818   ALDIE BELMONT GLEEDSVILLE HAMILTON HUGHESVILLE...  \n",
       "834   Chimanimani Chimanimani Ngangu Ngangu Zimbabwe...  \n",
       "835     Canterbury Kaikoura Nelson Wellington highway 1  \n",
       "1024  Florida Georgia North Carolina South Carolina ...  \n",
       "1049       Island of Vieques PuertoRico SanJuan Vieques  \n",
       "1071                                Puerto Rico U . S .  \n",
       "1170             Bahamas Haiti Haiti PORT - AU - PRINCE  \n",
       "1430                              FLORIDA HAITI N . C .  \n",
       "1434     North Carolina South Carolina U . S . Virginia  \n",
       "1451  AJK Azad Jammu ISLAMABAD Kashmir MUZAFFARABAD ...  \n",
       "1555      I - 495 at Route 29 Maryland MontgomeryCounty  \n",
       "1634                 19 Colusa Street Orland , CA 95963  "
      ]
     },
     "execution_count": 14,
     "metadata": {},
     "output_type": "execute_result"
    }
   ],
   "source": [
    "test_data[n_position > 5]"
   ]
  },
  {
   "cell_type": "code",
   "execution_count": 15,
   "metadata": {},
   "outputs": [
    {
     "data": {
      "text/plain": [
       "array(['Current # GFS # hurricane models for # Dorian show it raking along the coast from Florida , Georgia , South Carolina , North Carolina . and Virginia . Depending on how offshore the eye sits , could be a quite a task to handle such a span of damage across multiple states .',\n",
       "       'Florida Georgia North Carolina South Carolina Virginia'],\n",
       "      dtype=object)"
      ]
     },
     "execution_count": 15,
     "metadata": {},
     "output_type": "execute_result"
    }
   ],
   "source": [
    "test_data.loc[1024].values"
   ]
  },
  {
   "cell_type": "code",
   "execution_count": 16,
   "metadata": {},
   "outputs": [
    {
     "data": {
      "text/plain": [
       "[{'start': 39,\n",
       "  'end': 45,\n",
       "  'text': 'Dorian',\n",
       "  'label': 'disaster related location',\n",
       "  'score': 0.27948373556137085,\n",
       "  'raw_id': 1024},\n",
       " {'start': 82,\n",
       "  'end': 89,\n",
       "  'text': 'Florida',\n",
       "  'label': 'disaster related location',\n",
       "  'score': 0.7103641629219055,\n",
       "  'raw_id': 1024},\n",
       " {'start': 92,\n",
       "  'end': 99,\n",
       "  'text': 'Georgia',\n",
       "  'label': 'disaster related location',\n",
       "  'score': 0.700630784034729,\n",
       "  'raw_id': 1024},\n",
       " {'start': 119,\n",
       "  'end': 133,\n",
       "  'text': 'North Carolina',\n",
       "  'label': 'disaster related location',\n",
       "  'score': 0.6223258972167969,\n",
       "  'raw_id': 1024},\n",
       " {'start': 102,\n",
       "  'end': 116,\n",
       "  'text': 'South Carolina',\n",
       "  'label': 'disaster related location',\n",
       "  'score': 0.6113390326499939,\n",
       "  'raw_id': 1024},\n",
       " {'start': 140,\n",
       "  'end': 148,\n",
       "  'text': 'Virginia',\n",
       "  'label': 'disaster related location',\n",
       "  'score': 0.7333858013153076,\n",
       "  'raw_id': 1024}]"
      ]
     },
     "execution_count": 16,
     "metadata": {},
     "output_type": "execute_result"
    }
   ],
   "source": [
    "structured_preds.loc[1024]"
   ]
  },
  {
   "cell_type": "code",
   "execution_count": 17,
   "metadata": {},
   "outputs": [
    {
     "data": {
      "text/html": [
       "<div>\n",
       "<style scoped>\n",
       "    .dataframe tbody tr th:only-of-type {\n",
       "        vertical-align: middle;\n",
       "    }\n",
       "\n",
       "    .dataframe tbody tr th {\n",
       "        vertical-align: top;\n",
       "    }\n",
       "\n",
       "    .dataframe thead th {\n",
       "        text-align: right;\n",
       "    }\n",
       "</style>\n",
       "<table border=\"1\" class=\"dataframe\">\n",
       "  <thead>\n",
       "    <tr style=\"text-align: right;\">\n",
       "      <th></th>\n",
       "      <th>start</th>\n",
       "      <th>end</th>\n",
       "      <th>text</th>\n",
       "      <th>label</th>\n",
       "      <th>score</th>\n",
       "      <th>raw_id</th>\n",
       "    </tr>\n",
       "  </thead>\n",
       "  <tbody>\n",
       "    <tr>\n",
       "      <th>1984</th>\n",
       "      <td>127</td>\n",
       "      <td>135</td>\n",
       "      <td>Nebraska</td>\n",
       "      <td>disaster related location</td>\n",
       "      <td>0.991057</td>\n",
       "      <td>1164</td>\n",
       "    </tr>\n",
       "    <tr>\n",
       "      <th>1965</th>\n",
       "      <td>54</td>\n",
       "      <td>68</td>\n",
       "      <td>Princess Nokia</td>\n",
       "      <td>disaster related location</td>\n",
       "      <td>0.067721</td>\n",
       "      <td>1150</td>\n",
       "    </tr>\n",
       "    <tr>\n",
       "      <th>527</th>\n",
       "      <td>38</td>\n",
       "      <td>49</td>\n",
       "      <td>Puerto Rico</td>\n",
       "      <td>disaster related location</td>\n",
       "      <td>0.976933</td>\n",
       "      <td>298</td>\n",
       "    </tr>\n",
       "    <tr>\n",
       "      <th>868</th>\n",
       "      <td>82</td>\n",
       "      <td>98</td>\n",
       "      <td>Hurricane Marias</td>\n",
       "      <td>disaster related location</td>\n",
       "      <td>0.242108</td>\n",
       "      <td>496</td>\n",
       "    </tr>\n",
       "    <tr>\n",
       "      <th>1883</th>\n",
       "      <td>101</td>\n",
       "      <td>110</td>\n",
       "      <td>Camp Fire</td>\n",
       "      <td>disaster related location</td>\n",
       "      <td>0.506868</td>\n",
       "      <td>1093</td>\n",
       "    </tr>\n",
       "  </tbody>\n",
       "</table>\n",
       "</div>"
      ],
      "text/plain": [
       "      start  end              text                      label     score  \\\n",
       "1984    127  135          Nebraska  disaster related location  0.991057   \n",
       "1965     54   68    Princess Nokia  disaster related location  0.067721   \n",
       "527      38   49       Puerto Rico  disaster related location  0.976933   \n",
       "868      82   98  Hurricane Marias  disaster related location  0.242108   \n",
       "1883    101  110         Camp Fire  disaster related location  0.506868   \n",
       "\n",
       "      raw_id  \n",
       "1984    1164  \n",
       "1965    1150  \n",
       "527      298  \n",
       "868      496  \n",
       "1883    1093  "
      ]
     },
     "execution_count": 17,
     "metadata": {},
     "output_type": "execute_result"
    }
   ],
   "source": [
    "preds.sample(5)"
   ]
  },
  {
   "cell_type": "code",
   "execution_count": 18,
   "metadata": {},
   "outputs": [
    {
     "data": {
      "text/html": [
       "<div>\n",
       "<style scoped>\n",
       "    .dataframe tbody tr th:only-of-type {\n",
       "        vertical-align: middle;\n",
       "    }\n",
       "\n",
       "    .dataframe tbody tr th {\n",
       "        vertical-align: top;\n",
       "    }\n",
       "\n",
       "    .dataframe thead th {\n",
       "        text-align: right;\n",
       "    }\n",
       "</style>\n",
       "<table border=\"1\" class=\"dataframe\">\n",
       "  <thead>\n",
       "    <tr style=\"text-align: right;\">\n",
       "      <th></th>\n",
       "      <th>text</th>\n",
       "      <th>location</th>\n",
       "    </tr>\n",
       "  </thead>\n",
       "  <tbody>\n",
       "    <tr>\n",
       "      <th>1087</th>\n",
       "      <td>RT @ sos_children : SOS Childrens Villages has...</td>\n",
       "      <td>Ecuador</td>\n",
       "    </tr>\n",
       "    <tr>\n",
       "      <th>28</th>\n",
       "      <td>In the meantime , the death toll from Northern...</td>\n",
       "      <td>California</td>\n",
       "    </tr>\n",
       "    <tr>\n",
       "      <th>1064</th>\n",
       "      <td># thisweeksdonation is to globalgivings Mexico...</td>\n",
       "      <td>Mexico</td>\n",
       "    </tr>\n",
       "    <tr>\n",
       "      <th>1504</th>\n",
       "      <td>CANADA ALBERTA : # FortMacFire damage : oil fi...</td>\n",
       "      <td>ALBERTA CANADA</td>\n",
       "    </tr>\n",
       "    <tr>\n",
       "      <th>567</th>\n",
       "      <td>RT @ RachelNBanfield : Northlanders : Civil De...</td>\n",
       "      <td>Northland</td>\n",
       "    </tr>\n",
       "  </tbody>\n",
       "</table>\n",
       "</div>"
      ],
      "text/plain": [
       "                                                   text        location\n",
       "1087  RT @ sos_children : SOS Childrens Villages has...         Ecuador\n",
       "28    In the meantime , the death toll from Northern...      California\n",
       "1064  # thisweeksdonation is to globalgivings Mexico...          Mexico\n",
       "1504  CANADA ALBERTA : # FortMacFire damage : oil fi...  ALBERTA CANADA\n",
       "567   RT @ RachelNBanfield : Northlanders : Civil De...       Northland"
      ]
     },
     "execution_count": 18,
     "metadata": {},
     "output_type": "execute_result"
    }
   ],
   "source": [
    "test_data.sample(5)"
   ]
  },
  {
   "cell_type": "code",
   "execution_count": 19,
   "metadata": {},
   "outputs": [
    {
     "data": {
      "text/plain": [
       "raw_id\n",
       "1069    [{'start': 16, 'end': 23, 'text': 'Chinese', '...\n",
       "82      [{'start': 41, 'end': 55, 'text': 'Santa Fe Ri...\n",
       "1396    [{'start': 10, 'end': 15, 'text': 'Haiti', 'la...\n",
       "447     [{'start': 38, 'end': 43, 'text': 'Haiti', 'la...\n",
       "144     [{'start': 58, 'end': 64, 'text': 'Athens', 'l...\n",
       "dtype: object"
      ]
     },
     "execution_count": 19,
     "metadata": {},
     "output_type": "execute_result"
    }
   ],
   "source": [
    "structured_preds.sample(5)"
   ]
  },
  {
   "cell_type": "code",
   "execution_count": 20,
   "metadata": {},
   "outputs": [
    {
     "data": {
      "text/plain": [
       "(1645, 1495)"
      ]
     },
     "execution_count": 20,
     "metadata": {},
     "output_type": "execute_result"
    }
   ],
   "source": [
    "prediction_list = structured_preds.tolist()\n",
    "expected = [i or \"@\" for i in test_data[\"location\"]]\n",
    "\n",
    "len(expected), len(prediction_list)"
   ]
  },
  {
   "cell_type": "code",
   "execution_count": 21,
   "metadata": {},
   "outputs": [
    {
     "data": {
      "text/plain": [
       "0"
      ]
     },
     "execution_count": 21,
     "metadata": {},
     "output_type": "execute_result"
    }
   ],
   "source": [
    "len([i for i in expected if not i])"
   ]
  },
  {
   "cell_type": "code",
   "execution_count": 22,
   "metadata": {},
   "outputs": [
    {
     "data": {
      "text/plain": [
       "0.26189569851541683"
      ]
     },
     "execution_count": 22,
     "metadata": {},
     "output_type": "execute_result"
    }
   ],
   "source": [
    "from evaluate import load\n",
    "\n",
    "wer = load(\"wer\")\n",
    "\n",
    "def extract_predictions(thr = .5):\n",
    "    order_element = lambda line: sorted(\n",
    "        line, key=lambda x:  x[\"text\"]\n",
    "    )\n",
    "    raws = [\n",
    "        [j for j in i if j[\"score\"] > thr]\n",
    "        for i in prediction_list\n",
    "    ]\n",
    "    raws = [order_element(i) for i in raws]\n",
    "\n",
    "    raws = {i[0][\"raw_id\"]: \" \".join(j[\"text\"] for j in i) for i in raws if i}\n",
    "    preds = [raws.get(i, \"@\") for i in range(len(expected))]\n",
    "    # refs = references[\"location\"].fillna(\" \").tolist()\n",
    "    return wer.compute(predictions=preds, references=expected)\n",
    "\n",
    "extract_predictions()"
   ]
  },
  {
   "cell_type": "code",
   "execution_count": 23,
   "metadata": {},
   "outputs": [
    {
     "name": "stdout",
     "output_type": "stream",
     "text": [
      "0.4815378759040731 0.1\n",
      "0.45260753711457935 0.11836734693877551\n",
      "0.42177388656261894 0.13673469387755102\n",
      "0.39665017129805863 0.15510204081632656\n",
      "0.3844689760182718 0.17346938775510207\n",
      "0.37381043014845833 0.19183673469387758\n",
      "0.3490673772363913 0.21020408163265308\n",
      "0.3338408831366578 0.2285714285714286\n",
      "0.3193757137419109 0.2469387755102041\n",
      "0.30376855728968405 0.2653061224489796\n",
      "0.2953939855348306 0.2836734693877551\n",
      "0.29425199847735056 0.3020408163265306\n",
      "0.2835934526075371 0.3204081632653062\n",
      "0.2805481537875904 0.3387755102040817\n",
      "0.27864484202512374 0.3571428571428572\n",
      "0.2775028549676437 0.3755102040816327\n",
      "0.273315569090217 0.3938775510204082\n",
      "0.2676056338028169 0.41224489795918373\n",
      "0.26532165968785687 0.43061224489795924\n",
      "0.2626570232204035 0.44897959183673475\n",
      "0.26189569851541683 0.5040816326530613\n"
     ]
    }
   ],
   "source": [
    "best_score, best_thr = 1000, 0\n",
    "for thr in np.linspace(0.1, 1, 50):\n",
    "    score = extract_predictions(thr)\n",
    "    if score < best_score:\n",
    "        best_score = score\n",
    "        best_thr = thr\n",
    "        print(score, thr)"
   ]
  },
  {
   "cell_type": "markdown",
   "metadata": {},
   "source": [
    "0.15569823434991975 0.5408163265306123\n",
    "\n",
    "0.18576322801674913 0.5224489795918368"
   ]
  },
  {
   "cell_type": "code",
   "execution_count": null,
   "metadata": {},
   "outputs": [],
   "source": []
  }
 ],
 "metadata": {
  "kernelspec": {
   "display_name": ".venv",
   "language": "python",
   "name": "python3"
  },
  "language_info": {
   "codemirror_mode": {
    "name": "ipython",
    "version": 3
   },
   "file_extension": ".py",
   "mimetype": "text/x-python",
   "name": "python",
   "nbconvert_exporter": "python",
   "pygments_lexer": "ipython3",
   "version": "3.9.18"
  }
 },
 "nbformat": 4,
 "nbformat_minor": 2
}
